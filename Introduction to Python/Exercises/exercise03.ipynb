{
 "cells": [
  {
   "cell_type": "markdown",
   "metadata": {},
   "source": [
    "# Exercise 03\n",
    "* Task 1: indexing lists\n",
    "* Task 2: slicing strings\n",
    "* Task 3: sum of a list (with casting)\n",
    "* Task 4: len and what it returns\n",
    "* Tasks 5-7: Make your own functions and practice conditional statements\n",
    "* Task 8: Explain the error"
   ]
  },
  {
   "cell_type": "markdown",
   "metadata": {},
   "source": [
    "***\n",
    "## Task 1: Indexing lists\n",
    "\n",
    "```python\n",
    "my_list = [1, 4, 9, 16, 25, 36, 49, 64, 81, 100]\n",
    "```\n",
    "\n",
    "For the list defined above, and for each of the following elements: `1`; `100`; `9`; `49`; `4`, find **two ways** of indexing this element. (hint: you can always use either positive or negative indexing)"
   ]
  },
  {
   "cell_type": "markdown",
   "metadata": {},
   "source": [
    "**Solve Task 1:**"
   ]
  },
  {
   "cell_type": "code",
   "execution_count": 3,
   "metadata": {},
   "outputs": [],
   "source": [
    "my_list = [1, 4, 9, 16, 25, 36, 49, 64, 81, 100]"
   ]
  },
  {
   "cell_type": "code",
   "execution_count": 4,
   "metadata": {},
   "outputs": [
    {
     "name": "stdout",
     "output_type": "stream",
     "text": [
      "1\n",
      "1\n"
     ]
    }
   ],
   "source": [
    "# index to the element 1\n",
    "print(my_list[0])\n",
    "print(my_list[-10])"
   ]
  },
  {
   "cell_type": "code",
   "execution_count": 5,
   "metadata": {},
   "outputs": [
    {
     "name": "stdout",
     "output_type": "stream",
     "text": [
      "100\n",
      "100\n"
     ]
    }
   ],
   "source": [
    "# index to the element 100\n",
    "print(my_list[9])\n",
    "print(my_list[-1])"
   ]
  },
  {
   "cell_type": "code",
   "execution_count": 6,
   "metadata": {},
   "outputs": [
    {
     "name": "stdout",
     "output_type": "stream",
     "text": [
      "9\n",
      "9\n"
     ]
    }
   ],
   "source": [
    "# index to the element 9\n",
    "print(my_list[2])\n",
    "print(my_list[-8])"
   ]
  },
  {
   "cell_type": "code",
   "execution_count": 7,
   "metadata": {},
   "outputs": [
    {
     "name": "stdout",
     "output_type": "stream",
     "text": [
      "49\n",
      "49\n"
     ]
    }
   ],
   "source": [
    "# index to the element 49\n",
    "print(my_list[6])\n",
    "print(my_list[-4])"
   ]
  },
  {
   "cell_type": "code",
   "execution_count": 8,
   "metadata": {},
   "outputs": [
    {
     "name": "stdout",
     "output_type": "stream",
     "text": [
      "4\n",
      "4\n"
     ]
    }
   ],
   "source": [
    "# index to the element 4\n",
    "print(my_list[1])\n",
    "print(my_list[-9])"
   ]
  },
  {
   "cell_type": "markdown",
   "metadata": {},
   "source": [
    "***\n",
    "## Task 2: Slicing strings\n",
    "\n",
    "```python\n",
    "\"Actions speak louder than words.\"\n",
    "```\n",
    "For the string defined above, use slicing to save each word (without white spaces) in a separate variable. Then, save all variables into a variable called `my_sentence`. When you `print(my_sentence)`, the output should look like: `['Actions', 'speak'...]`"
   ]
  },
  {
   "cell_type": "markdown",
   "metadata": {},
   "source": [
    "**Solve Task 2:**"
   ]
  },
  {
   "cell_type": "code",
   "execution_count": 9,
   "metadata": {},
   "outputs": [],
   "source": [
    "my_string = \"Actions speak louder than words.\""
   ]
  },
  {
   "cell_type": "code",
   "execution_count": 23,
   "metadata": {},
   "outputs": [
    {
     "data": {
      "text/plain": [
       "'words'"
      ]
     },
     "execution_count": 23,
     "metadata": {},
     "output_type": "execute_result"
    }
   ],
   "source": [
    "# use slicing to save \"Actions\" into a variable\n",
    "# word1 = mystring[...]\n",
    "# etc. for all other words in my_string\n",
    "word1 = my_string[0:6]\n",
    "word2 = my_string[8:13]\n",
    "word3 = my_string[14:21]\n",
    "word4 = my_string[21:26]\n",
    "word5 = my_string[26:31]"
   ]
  },
  {
   "cell_type": "code",
   "execution_count": 24,
   "metadata": {},
   "outputs": [],
   "source": [
    "# recombine all variables into a list\n",
    "# my_sentence = [word1, word2, ...] # etc.\n",
    "my_sentence = [word1,word2,word3,word4,word5]"
   ]
  },
  {
   "cell_type": "code",
   "execution_count": 25,
   "metadata": {},
   "outputs": [
    {
     "name": "stdout",
     "output_type": "stream",
     "text": [
      "['Action', 'speak', 'louder ', 'than ', 'words']\n"
     ]
    }
   ],
   "source": [
    "# print it out to check if it worked\n",
    "# print(my_sentence)\n",
    "print(my_sentence)"
   ]
  },
  {
   "cell_type": "markdown",
   "metadata": {},
   "source": [
    "***\n",
    "# Task 3: Casting, `min()`, `max()`, `sum()` on a list\n",
    "\n",
    "```python\n",
    "my_list = [0, \"1\", 200, 45, \"-80\", \"0.25\", 13, \"515.9\"]\n",
    "```\n",
    "\n",
    "For the list defined above, first replace all its non-numeric elements by their numeric counterparts, using **indexing** and **casting** (`int()` or `float()`). Then, find the min, max, and sum of `my_list` using built-in functions."
   ]
  },
  {
   "cell_type": "markdown",
   "metadata": {},
   "source": [
    "**Solve Task 3:**"
   ]
  },
  {
   "cell_type": "code",
   "execution_count": 38,
   "metadata": {},
   "outputs": [],
   "source": [
    "my_list = [0, \"1\", 200, 45, \"-80\", \"0.25\", 13, \"515.9\"]\n",
    "# use indexing and casting to replace all strs by either int or float:\n",
    "# my_list[1] = int(...) etc.\n",
    "\n",
    "my_list[1]= int(my_list[1])\n",
    "my_list[4] = int(my_list[4])\n",
    "my_list[5] = float(my_list[5])\n",
    "my_list[7] = float(my_list[7])"
   ]
  },
  {
   "cell_type": "code",
   "execution_count": 40,
   "metadata": {},
   "outputs": [
    {
     "name": "stdout",
     "output_type": "stream",
     "text": [
      "-80\n",
      "515.9\n"
     ]
    }
   ],
   "source": [
    "# find the min, max, and sum of my_list\n",
    "print(min(my_list))\n",
    "print(max(my_list))"
   ]
  },
  {
   "cell_type": "markdown",
   "metadata": {},
   "source": []
  },
  {
   "cell_type": "markdown",
   "metadata": {},
   "source": [
    "***\n",
    "## Task 4: The `len()` function in Python\n",
    "\n",
    "For each the variables `a...k` below, first **try to predict** what `len(variable)` will return; then check to see if you were correct.\n",
    "\n",
    "```python\n",
    "a = \"COPEN HAGEN!\"\n",
    "b = [0, 1, 2, 3, 4, 5]\n",
    "c = b[:4]\n",
    "d = b[2:3]\n",
    "e = b[:]\n",
    "f = [True]\n",
    "g = False\n",
    "h = 9.0\n",
    "i = 9\n",
    "j = \"9\"\n",
    "k = [9]\n",
    "```"
   ]
  },
  {
   "cell_type": "markdown",
   "metadata": {},
   "source": [
    "**Solve Task 4:**"
   ]
  },
  {
   "cell_type": "code",
   "execution_count": 41,
   "metadata": {},
   "outputs": [],
   "source": [
    "# run this cells to define the variables a-j\n",
    "a = \"COPEN HAGEN!\" #- 12\n",
    "b = [0, 1, 2, 3, 4, 5] #- 6\n",
    "c = b[:4] # - 4\n",
    "d = b[2:3] #- 1\n",
    "e = b[:] # - 6\n",
    "f = [True] # - 1 has a length because it is a list with one element, that element is the bool TRUE\n",
    "g = False # - bool has no length\n",
    "h = 9.0 # - float has no length\n",
    "i = 9 # - 1 - just an integer has no length\n",
    "j = \"9\" #- 1\n",
    "k = [9] #- 1"
   ]
  },
  {
   "cell_type": "code",
   "execution_count": 45,
   "metadata": {},
   "outputs": [
    {
     "name": "stdout",
     "output_type": "stream",
     "text": [
      "12\n",
      "6\n",
      "4\n",
      "1\n",
      "6\n",
      "1\n",
      "1\n",
      "1\n"
     ]
    }
   ],
   "source": [
    "# check their lengths like so: len(a) etc.\n",
    "print(len(a))\n",
    "print(len(b))\n",
    "print(len(c))\n",
    "print(len(d))\n",
    "print(len(e))\n",
    "print(len(f))\n",
    "print(len(j))\n",
    "print(len(k))"
   ]
  },
  {
   "cell_type": "markdown",
   "metadata": {},
   "source": [
    "***\n",
    "# Task 5: `find_max` function and input checking\n",
    "\n",
    "**(5a)** Write a function `find_max()` that takes a list of numbers as an input, and returns the biggest number on that list as an output. Remember to add a docstring.\n",
    "\n",
    "**(5b)** Modify `find_max()` so that it first checks the input type, and then either: returns the string `\"Error: can't find max, input is not a list\"` if the input is not a list; or returns the biggest number on the list."
   ]
  },
  {
   "cell_type": "markdown",
   "metadata": {},
   "source": [
    "**Solve Task 5:**"
   ]
  },
  {
   "cell_type": "code",
   "execution_count": 60,
   "metadata": {},
   "outputs": [],
   "source": [
    "# define your function\n",
    "def find_max(my_input):\n",
    "    '''\n",
    "    This funtion finds the max value of a list\n",
    "    '''\n",
    "    # YOUR CODE HERE\n",
    "    if type(my_input) not in [list]:\n",
    "        print(\"Error: can't find max, input is not a list\")\n",
    "    elif type(my_input) in [list]:\n",
    "        maximum = max((my_input))\n",
    "        return maximum"
   ]
  },
  {
   "cell_type": "code",
   "execution_count": 62,
   "metadata": {},
   "outputs": [
    {
     "data": {
      "text/plain": [
       "500"
      ]
     },
     "execution_count": 62,
     "metadata": {},
     "output_type": "execute_result"
    }
   ],
   "source": [
    "find_max([1,2,3,500])"
   ]
  },
  {
   "cell_type": "code",
   "execution_count": 61,
   "metadata": {},
   "outputs": [
    {
     "name": "stdout",
     "output_type": "stream",
     "text": [
      "Error: can't find max, input is not a list\n"
     ]
    }
   ],
   "source": [
    "find_max(\"a\")"
   ]
  },
  {
   "cell_type": "markdown",
   "metadata": {},
   "source": [
    "***\n",
    "## Task 6 - `compare_with_five`\n",
    "\n",
    "**(6a)** Write a block of code that first defines the variable `x` and assigns a numeric value to it (can be any number you want); and then **prints out, depending on the value of x**: either `\"x is bigger than 5\"`, `\"x is smaller than 5\"`, or `\"x equals 5\"`. (use `if/elif/else`)\n",
    "\n",
    "**(6b)** In task 6a above, if `x` is a string, the code will throw an error. (Try it out!) Modify your code, adding one more condition: if `x` is not a numeric (int or float), print `\"x is not numeric\"`; now your code should work even if x is a string. **Hint:** you can use `isinstance()` and the logical operator `or` to make check whether `x` is numeric.\n",
    "\n",
    "**(6c)** \"Wrap\" the code from 6b into a function called `compare_with_five()`. The function should **return** strings instead of printing them. Remember to add a docstring!\n",
    "\n",
    "**(6d)** Test if you implemented the function in task 6c correctly by running the cell with assert statements below. **Note:** `assert statement` simply checks if the `statement` is `True` or `False`. If \"all assertions pass\" (i.e. if all statements after `assert` are `True` and running that cell throws no error message), then your function is correctly implemented. Note that you have to use exactly the same strings as defined above for all assertions to pass."
   ]
  },
  {
   "cell_type": "markdown",
   "metadata": {},
   "source": [
    "**Solve Task 6:**"
   ]
  },
  {
   "cell_type": "code",
   "execution_count": 75,
   "metadata": {},
   "outputs": [
    {
     "name": "stdout",
     "output_type": "stream",
     "text": [
      "x is smaller than 5\n"
     ]
    }
   ],
   "source": [
    "# 6a\n",
    "x = 2\n",
    "if x > 5:\n",
    "    print(\"x is bigger than 5\")\n",
    "elif x == 5:\n",
    "    print(\"x equals 5\")\n",
    "else:\n",
    "    print(\"x is smaller than 5\")"
   ]
  },
  {
   "cell_type": "code",
   "execution_count": 102,
   "metadata": {},
   "outputs": [
    {
     "name": "stdout",
     "output_type": "stream",
     "text": [
      "x is bigger than 5\n"
     ]
    }
   ],
   "source": [
    "x = 10\n",
    "if type(x) not in [float,int]:\n",
    "    print(\"x is not numeric\")\n",
    "elif x > 5:\n",
    "    print(\"x is bigger than 5\")\n",
    "elif x == 5:\n",
    "    print(\"x equals 5\")\n",
    "else:\n",
    "    print(\"x is smaller than 5\")\n",
    "\n"
   ]
  },
  {
   "cell_type": "code",
   "execution_count": null,
   "metadata": {},
   "outputs": [],
   "source": [
    "# 6b"
   ]
  },
  {
   "cell_type": "code",
   "execution_count": null,
   "metadata": {},
   "outputs": [],
   "source": []
  },
  {
   "cell_type": "code",
   "execution_count": 106,
   "metadata": {},
   "outputs": [],
   "source": [
    "# 6c\n",
    "def compare_with_five(x):\n",
    "    '''\n",
    "    This function compares an input with the integer 5\n",
    "    '''\n",
    "    \n",
    "    if type(x) not in [float,int]:\n",
    "        answer=(\"x is not numeric\")\n",
    "    elif x > 5:\n",
    "        answer=(\"x is bigger than 5\")\n",
    "    elif x == 5:\n",
    "        answer=(\"x equals 5\")\n",
    "    else:\n",
    "        answer=(\"x is smaller than 5\")\n",
    "    return answer\n",
    "    # YOUR CODE USING x HERE\n",
    "    "
   ]
  },
  {
   "cell_type": "code",
   "execution_count": 107,
   "metadata": {},
   "outputs": [],
   "source": [
    "# 6d - run this cell to test if your function is correctly implemented\n",
    "assert compare_with_five(5.0)==\"x equals 5\"\n",
    "assert compare_with_five(-1)==\"x is smaller than 5\"\n",
    "assert compare_with_five(22)==\"x is bigger than 5\"\n",
    "assert compare_with_five(\"notanumber\")==\"x is not numeric\"\n",
    "# if no error message is shown, your function is correctly implemented.\n"
   ]
  },
  {
   "cell_type": "markdown",
   "metadata": {},
   "source": [
    "***\n",
    "## Task 7: `duplicate_anything` function\n",
    "\n",
    "Write a function `duplicate_anything` that returns, depending on the input type:\n",
    "* if the input is a number x (int or float), it returns the doubled number (e.g. if input is `4.5`, the function returns `9`)\n",
    "* if the input is a string, it returns the string repeated twice (e.g. if input is `\"Hey\"`, the function returns `\"HeyHey\"`)\n",
    "* if the input is a boolean, the function returns a list with two Boolean elements (e.g. if input is `True`, the function returns `[True, True]`)\n",
    "* if the input is a list, the function returns the list concatenated with itself (repeated twice; e.g. if input is `[1, 2]`, the function returns `[1, 2, 1, 2]` \n",
    "\n",
    "**Hints**: use `type(input) is ...` to check for the input type; use `if, else, elif` to define different return statements; use the `*` operator to duplicate values (except for the boolean type case). "
   ]
  },
  {
   "cell_type": "markdown",
   "metadata": {},
   "source": [
    "**Solve Task 7:**"
   ]
  },
  {
   "cell_type": "code",
   "execution_count": 162,
   "metadata": {},
   "outputs": [
    {
     "ename": "NameError",
     "evalue": "name 'hej' is not defined",
     "output_type": "error",
     "traceback": [
      "\u001b[1;31m---------------------------------------------------------------------------\u001b[0m",
      "\u001b[1;31mNameError\u001b[0m                                 Traceback (most recent call last)",
      "Cell \u001b[1;32mIn[162], line 16\u001b[0m\n\u001b[0;32m     14\u001b[0m     \u001b[38;5;66;03m# YOUR CODE HERE\u001b[39;00m\n\u001b[0;32m     15\u001b[0m duplicate_anything(\u001b[38;5;28;01mTrue\u001b[39;00m)\n\u001b[1;32m---> 16\u001b[0m duplicate_anything(hej)\n",
      "\u001b[1;31mNameError\u001b[0m: name 'hej' is not defined"
     ]
    }
   ],
   "source": [
    "# define your function\n",
    "def duplicate_anything(my_input):\n",
    "    if type(my_input) is float or type(my_input) is int:\n",
    "        answer = 2*(my_input)\n",
    "    elif type(my_input) is str:\n",
    "        answer = (my_input)*2\n",
    "    elif type(my_input) is bool:\n",
    "        answer = [(my_input)]*2\n",
    "    elif type(my_input) is list:\n",
    "        answer = (my_input)*2\n",
    "    else: \n",
    "        answer=(\"input is not a datatype\")\n",
    "    return answer\n",
    "    # YOUR CODE HERE\n",
    "duplicate_anything(True)\n",
    "duplicate_anything(hej)"
   ]
  },
  {
   "cell_type": "code",
   "execution_count": 159,
   "metadata": {},
   "outputs": [],
   "source": [
    "# you can run this cell to test your function.\n",
    "assert duplicate_anything(2)==4\n",
    "assert duplicate_anything(0)==0\n",
    "assert duplicate_anything(6.5)==13\n",
    "assert duplicate_anything(\"Hey\")==\"HeyHey\"\n",
    "assert duplicate_anything([1,2,3])==[1,2,3,1,2,3]\n",
    "assert duplicate_anything(True)==[True,True]\n",
    "# if no error message is shown, your function is correctly implemented."
   ]
  },
  {
   "cell_type": "markdown",
   "metadata": {},
   "source": [
    "***\n",
    "## Task 8: Explain the error\n",
    "\n",
    "Each of the expressions below will throw an error. Try to find out why, and explain the error in your own words!\n",
    "\n",
    "```python\n",
    "x = int(\"8.7\")\n",
    "8 in 9\n",
    "max(9)\n",
    "sum([\"1\", \"2\"])\n",
    "20 / 0\n",
    "```"
   ]
  },
  {
   "cell_type": "code",
   "execution_count": 153,
   "metadata": {},
   "outputs": [
    {
     "ename": "ValueError",
     "evalue": "invalid literal for int() with base 10: '8.7'",
     "output_type": "error",
     "traceback": [
      "\u001b[1;31m---------------------------------------------------------------------------\u001b[0m",
      "\u001b[1;31mValueError\u001b[0m                                Traceback (most recent call last)",
      "Cell \u001b[1;32mIn[153], line 1\u001b[0m\n\u001b[1;32m----> 1\u001b[0m \u001b[38;5;28mint\u001b[39m(\u001b[38;5;124m\"\u001b[39m\u001b[38;5;124m8.7\u001b[39m\u001b[38;5;124m\"\u001b[39m)\n",
      "\u001b[1;31mValueError\u001b[0m: invalid literal for int() with base 10: '8.7'"
     ]
    }
   ],
   "source": [
    "x=int(\"8.7\") \n",
    "#this expression throws an error, because the string is a bool, and python cannot first convert the string to a bool\n",
    "#and then convert it to an integer"
   ]
  },
  {
   "cell_type": "code",
   "execution_count": 149,
   "metadata": {},
   "outputs": [
    {
     "ename": "TypeError",
     "evalue": "argument of type 'int' is not iterable",
     "output_type": "error",
     "traceback": [
      "\u001b[1;31m---------------------------------------------------------------------------\u001b[0m",
      "\u001b[1;31mTypeError\u001b[0m                                 Traceback (most recent call last)",
      "Cell \u001b[1;32mIn[149], line 1\u001b[0m\n\u001b[1;32m----> 1\u001b[0m \u001b[38;5;241m8\u001b[39m \u001b[38;5;129;01min\u001b[39;00m \u001b[38;5;241m9\u001b[39m\n",
      "\u001b[1;31mTypeError\u001b[0m: argument of type 'int' is not iterable"
     ]
    }
   ],
   "source": [
    "8 in 9 # this expression throws an error because 8 is not a part of 9"
   ]
  },
  {
   "cell_type": "code",
   "execution_count": null,
   "metadata": {},
   "outputs": [],
   "source": [
    "max(9) # this expression throws an error because the input is not a list"
   ]
  },
  {
   "cell_type": "code",
   "execution_count": 150,
   "metadata": {},
   "outputs": [
    {
     "ename": "TypeError",
     "evalue": "unsupported operand type(s) for +: 'int' and 'str'",
     "output_type": "error",
     "traceback": [
      "\u001b[1;31m---------------------------------------------------------------------------\u001b[0m",
      "\u001b[1;31mTypeError\u001b[0m                                 Traceback (most recent call last)",
      "Cell \u001b[1;32mIn[150], line 1\u001b[0m\n\u001b[1;32m----> 1\u001b[0m \u001b[38;5;28msum\u001b[39m([\u001b[38;5;124m\"\u001b[39m\u001b[38;5;124m1\u001b[39m\u001b[38;5;124m\"\u001b[39m, \u001b[38;5;124m\"\u001b[39m\u001b[38;5;124m2\u001b[39m\u001b[38;5;124m\"\u001b[39m])\n",
      "\u001b[1;31mTypeError\u001b[0m: unsupported operand type(s) for +: 'int' and 'str'"
     ]
    }
   ],
   "source": [
    "sum([\"1\", \"2\"]) # this expression gives an error because we can't add two strings in a list like this"
   ]
  },
  {
   "cell_type": "code",
   "execution_count": 151,
   "metadata": {},
   "outputs": [
    {
     "ename": "ZeroDivisionError",
     "evalue": "division by zero",
     "output_type": "error",
     "traceback": [
      "\u001b[1;31m---------------------------------------------------------------------------\u001b[0m",
      "\u001b[1;31mZeroDivisionError\u001b[0m                         Traceback (most recent call last)",
      "Cell \u001b[1;32mIn[151], line 1\u001b[0m\n\u001b[1;32m----> 1\u001b[0m \u001b[38;5;241m20\u001b[39m \u001b[38;5;241m/\u001b[39m \u001b[38;5;241m0\u001b[39m\n",
      "\u001b[1;31mZeroDivisionError\u001b[0m: division by zero"
     ]
    }
   ],
   "source": [
    "20 / 0 #this expression throws an error because we can not divide by 0 in python, since it doesn't see 0 as a number"
   ]
  },
  {
   "cell_type": "markdown",
   "metadata": {},
   "source": []
  }
 ],
 "metadata": {
  "kernelspec": {
   "display_name": "Python 3 (ipykernel)",
   "language": "python",
   "name": "python3"
  },
  "language_info": {
   "codemirror_mode": {
    "name": "ipython",
    "version": 3
   },
   "file_extension": ".py",
   "mimetype": "text/x-python",
   "name": "python",
   "nbconvert_exporter": "python",
   "pygments_lexer": "ipython3",
   "version": "3.11.4"
  }
 },
 "nbformat": 4,
 "nbformat_minor": 2
}
