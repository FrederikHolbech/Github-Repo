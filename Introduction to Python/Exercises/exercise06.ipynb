{
 "cells": [
  {
   "cell_type": "markdown",
   "metadata": {},
   "source": [
    "# Exercise 06\n",
    "* Task 1: Working with built-in modules\n",
    "* Task 2: Simulating a dice game\n",
    "* Tasks 3-5: String formatting & text file processing. (**Note** Task 5 is an extra challenge!)"
   ]
  },
  {
   "cell_type": "markdown",
   "metadata": {},
   "source": [
    "## Task 1: Exploring built-in Python modules\n",
    "\n",
    "In each of the code snippets below, we import a built-in module (or a single function from a module), and then call one of the module's functions.\n",
    "\n",
    "Explore the code output, as well as the [documentation](https://docs.python.org/3/py-modindex.html#) of the corresponding Python module, to answer the questions about the code snippets."
   ]
  },
  {
   "cell_type": "code",
   "execution_count": 1,
   "metadata": {},
   "outputs": [],
   "source": [
    "# the operator module\n",
    "from operator import add\n",
    "result_sub = add(4,3)\n",
    "# what does the variable \"result\" contain? it contains the sum of the inputs"
   ]
  },
  {
   "cell_type": "code",
   "execution_count": 2,
   "metadata": {},
   "outputs": [
    {
     "name": "stdout",
     "output_type": "stream",
     "text": [
      "1\n"
     ]
    }
   ],
   "source": [
    "from operator import sub\n",
    "# how can you access the sub() function in the operator module, I can import the operator module\n",
    "# for the following line of code to work?\n",
    "result_sub = sub(4,3)\n",
    "print(result_sub)"
   ]
  },
  {
   "cell_type": "code",
   "execution_count": 3,
   "metadata": {},
   "outputs": [
    {
     "name": "stdout",
     "output_type": "stream",
     "text": [
      "1695145735.696934\n",
      "Tue Sep 19 19:48:55 2023\n"
     ]
    }
   ],
   "source": [
    "# the time module:\n",
    "import time\n",
    "time_in_secs = time.time()\n",
    "print(time_in_secs)\n",
    "time_as_str = time.ctime(time_in_secs)\n",
    "print(time_as_str)\n",
    "\n",
    "# What does the number saved in the variable time_in_secs represent? It represents the time since 1. January 1970 00:00\n",
    "\n",
    "# What does the function ctime() from the time module do? it gives the time and date of the time it is executed"
   ]
  },
  {
   "cell_type": "code",
   "execution_count": 4,
   "metadata": {},
   "outputs": [
    {
     "data": {
      "text/plain": [
       "Counter({'cookies': 1, 'apple': 3, 'orange': 1, 'sandwich': 1})"
      ]
     },
     "execution_count": 4,
     "metadata": {},
     "output_type": "execute_result"
    }
   ],
   "source": [
    "# the Counter function from the collections module:\n",
    "mysnacks = [\"cookies\", \"apple\", \"orange\", \"sandwich\", \"apple\", \"apple\"]\n",
    "from collections import Counter\n",
    "myCounter = Counter(mysnacks)\n",
    "# explain what the object myCounter now contains! the object mycounter contains a dictionary where the key is the snack, \n",
    "#and the value is the number of times it occurs on the list\n",
    "myCounter"
   ]
  },
  {
   "cell_type": "markdown",
   "metadata": {
    "tags": []
   },
   "source": [
    "# Task 2: Simulating a dice game\n",
    "\n",
    "Now that we know how to simulate dice with the `random` module,  let's play a game! The rules are simple: you have `N` dice;  you throw them `M` times; if the sum of all your dice in all throws is bigger than `S`, you win. For example, if `N=3`, `M=2`, and `S=20`, it means that you have N=3 dice that you are allowed to throw M=2 times, and you win if all your points add up to at least S=20. \n",
    "\n",
    "**Write a function `win_dice_game` that:**\n",
    "* takes as input \n",
    "    * `n_dice` (the number of dice in the game), \n",
    "    * `n_throws` (the number of times the dice are thrown), and \n",
    "    * `points_win` (the number of points you need to have to win) \n",
    "* uses a function of your choice from the [`random` module](https://docs.python.org/3/library/random.html) to simulate the dice throw\n",
    "* computes the sum of all points from the dice throw\n",
    "* compares the sum to `points_win` and returns either `True` (if you win, i.e. if the sum is equal to or greater than `points_win`) or `False` otherwise\n",
    "\n",
    "**Use your function `win_dice_game()` to simulate 100 games**, with different settings. What percentage of games did you win if:\n",
    "* you have 2 dice, are allowed 3 throws, and need at least 20 points to win?\n",
    "* you have 5 dice, are allowed 5 throws, and need at least 120 points to win?\n",
    "\n",
    "How many games do you need to play with the second configuration (5 dice, 5 throws, and at least 120 points to win) if you want to win at least once? (Just experiment with your code by increasing/decreasing the number of games played, no mathematical formula needed - but you can **try** to come up with one!)"
   ]
  },
  {
   "cell_type": "code",
   "execution_count": 5,
   "metadata": {
    "tags": []
   },
   "outputs": [],
   "source": [
    "# import the random module, which we will need\n",
    "import random\n",
    "import math\n",
    "my_list=[]\n",
    "# define your function\n",
    "def win_dice_game(n_dice, n_throws, points_win):\n",
    "    my_list=[]\n",
    "    '''\n",
    "    function that takes 3 integer values and returns True/False\n",
    "    '''\n",
    "    if type(n_dice) and type(n_throws) and type(points_win) is int:\n",
    "        for _ in range(1,n_throws+1):\n",
    "            for _ in range(1,n_dice+1):\n",
    "                my_list.append(random.choice(range(1,7)))\n",
    "               \n",
    "    \n",
    "        if sum(my_list)>=points_win:\n",
    "            return True\n",
    "        elif sum(my_list)<points_win:\n",
    "            return False\n",
    "    \n",
    "    \n",
    "        \n",
    "    else:\n",
    "        return \"wrong input\"\n",
    "    \n",
    "        \n",
    "        \n",
    "    \n"
   ]
  },
  {
   "cell_type": "code",
   "execution_count": 6,
   "metadata": {
    "tags": []
   },
   "outputs": [
    {
     "data": {
      "text/plain": [
       "False"
      ]
     },
     "execution_count": 6,
     "metadata": {},
     "output_type": "execute_result"
    }
   ],
   "source": [
    "# check if it works:*\n",
    "win_dice_game(2,1,10)"
   ]
  },
  {
   "cell_type": "code",
   "execution_count": 7,
   "metadata": {
    "tags": []
   },
   "outputs": [
    {
     "name": "stdout",
     "output_type": "stream",
     "text": [
      "60 out of 100 games won\n"
     ]
    }
   ],
   "source": [
    "# simulate 100 games with:\n",
    "# 2 dice, 3 throws, 20 points to win\n",
    "games_won = 0\n",
    "for _ in range(100):\n",
    "    if win_dice_game(2,3,20)== True:\n",
    "        games_won+=1\n",
    "    \n",
    "print(games_won, \"out of 100 games won\")"
   ]
  },
  {
   "cell_type": "code",
   "execution_count": 8,
   "metadata": {
    "tags": []
   },
   "outputs": [
    {
     "name": "stdout",
     "output_type": "stream",
     "text": [
      "0 out of 100 games won\n"
     ]
    }
   ],
   "source": [
    "# simulate 100 games with:\n",
    "# 5 dice, 5 throws, 120 points to win\n",
    "games_won = 0\n",
    "for _ in range(100):\n",
    "    if win_dice_game(5,5,120)==True:\n",
    "        games_won+=1\n",
    "print(games_won, \"out of 100 games won\")"
   ]
  },
  {
   "cell_type": "code",
   "execution_count": 23,
   "metadata": {
    "tags": []
   },
   "outputs": [
    {
     "name": "stdout",
     "output_type": "stream",
     "text": [
      "0 out of 100 games played\n",
      "0 out of 500 games played\n",
      "0 out of 1000 games played\n",
      "1 out of 10000 games played\n",
      "1 out of 20000 games played\n",
      "2 out of 50000 games played\n"
     ]
    }
   ],
   "source": [
    "# simulate N games with:\n",
    "# 5 dice, 5 throws, 120 points to win\n",
    "# experimenting with N (number of games)\n",
    "games_played = [100, 500, 1000, 10000, 20000, 50000]\n",
    "for N in games_played:\n",
    "    games_won = 0\n",
    "    for _ in range(N):\n",
    "        current_game = win_dice_game(5,5,120)\n",
    "        games_won+=current_game\n",
    "    print(games_won, \"out of\", N, \"games played\")\n",
    "    \n",
    "    "
   ]
  },
  {
   "cell_type": "markdown",
   "metadata": {},
   "source": [
    "# Task 3: String formatting - Capital cities\n",
    "\n",
    "Below, we provide you with a dictionary `capitals`, that contains key-value pairs with countries as keys, and their capital cities as values. Let's do some data cleaning first:\n",
    "* Some cities' names contain numbers; these need to be deleted\n",
    "* Some cities' names consist of several words, but lack a white space; insert a white space where appropriate (for example, \"AddisAbaba\" needs to be formatted into \"Addis Ababa\").\n",
    "\n",
    "Now, use the `f'{}'` syntax to generate a file where in each line contains one sentence: `The capital of <country> is <city>.`, inserting countries and capitals from the dictionary. Save the file to `capitals.txt`. "
   ]
  },
  {
   "cell_type": "code",
   "execution_count": 10,
   "metadata": {},
   "outputs": [],
   "source": [
    "capitals = {\n",
    "    \"Nigeria\" : \"Abuja\",\n",
    "    \"Colombia\" : \"0Bo0gotá\",\n",
    "    \"Gibraltar\": \"Gibr2altar\",\n",
    "    \"Ethiopia\": \"AddisAb3aba\",\n",
    "    \"United Arab Emirates\": \"AbuDhab7i\"\n",
    "}"
   ]
  },
  {
   "cell_type": "code",
   "execution_count": 26,
   "metadata": {},
   "outputs": [
    {
     "data": {
      "text/plain": [
       "{'Nigeria': 'Abuja',\n",
       " 'Colombia': 'Bogotá',\n",
       " 'Gibraltar': 'Gibraltar',\n",
       " 'Ethiopia': 'AddisAbaba',\n",
       " 'United Arab Emirates': 'AbuDhabi'}"
      ]
     },
     "execution_count": 26,
     "metadata": {},
     "output_type": "execute_result"
    }
   ],
   "source": [
    "# import re module\n",
    "import re\n",
    "for key, value in capitals.items():\n",
    "    for item in re.findall(\"\\d\",value):\n",
    "        capitals[key]=capitals[key].replace(item,\"\")\n",
    "        \n",
    "\n",
    "# remove numbers from dictionary values with the help of the \"\\d\" or \"\\d+\" regex\n",
    "capitals"
   ]
  },
  {
   "cell_type": "code",
   "execution_count": 33,
   "metadata": {},
   "outputs": [
    {
     "data": {
      "text/plain": [
       "{'Nigeria': ' buja',\n",
       " 'Colombia': ' ogotá',\n",
       " 'Gibraltar': ' ibraltar',\n",
       " 'Ethiopia': ' ddis baba',\n",
       " 'United Arab Emirates': ' bu habi'}"
      ]
     },
     "execution_count": 33,
     "metadata": {},
     "output_type": "execute_result"
    }
   ],
   "source": [
    "# add white spaces before capital letters \n",
    "# (you can use the regex \"[A-Z]\" to find capital letters)\n",
    "import re\n",
    "for key, value in capitals.items():\n",
    "    for item in re.findall(\"[A-Z]\",value[1:]):\n",
    "        capitals[key]=capitals[key].replace(item,\" \" + item)\n",
    "capitals"
   ]
  },
  {
   "cell_type": "code",
   "execution_count": 36,
   "metadata": {},
   "outputs": [],
   "source": [
    "# open up the file; with the opened file,\n",
    "    # loop through the dictionary items;\n",
    "    # create a sentence from keys and values (with string formatting) at each iteration step;\n",
    "    # wrte the sentence + a linebreak (expressed as \"\\n\") string to the file\n",
    "with open ('capitals.txt', 'w') as opened_file:\n",
    "    for key, value in capitals.items():\n",
    "        sentence = f\"The Capital of {key} is {value}.\"\n",
    "        opened_file.write(sentence)\n",
    "        opened_file.write(\"\\n\")"
   ]
  },
  {
   "cell_type": "markdown",
   "metadata": {},
   "source": [
    "# Task 4: Text processing - Numbers in an article\n",
    "\n",
    "In the file `article.txt`, we provide the text of this [Guardian article](https://www.theguardian.com/commentisfree/2023/jul/12/progress-climate-european-greenlash-populist-right) by Nathalie Tucci. Let's say we are **VERY** interested in all the **numbers** that she used in the article. Your tasks:\n",
    "\n",
    "* `.read()` in the text file \n",
    "* find all the numbers (of one or more characters, with the regex `\"\\d+\"`) mentioned in the text, and print them out\n",
    "* `.split()` the text into separate sentences\n",
    "* loop through the sentences, `.append()`ing only the ones that contain numbers to a list\n",
    "* Additional challenge: try to write this list to a text file, so that every line in the text file is a sentence (with a number) from the article"
   ]
  },
  {
   "cell_type": "code",
   "execution_count": 14,
   "metadata": {},
   "outputs": [],
   "source": [
    "# if not done yet, import the re module\n",
    "import re"
   ]
  },
  {
   "cell_type": "code",
   "execution_count": 15,
   "metadata": {},
   "outputs": [],
   "source": [
    "# .read() in the text file"
   ]
  },
  {
   "cell_type": "code",
   "execution_count": 16,
   "metadata": {},
   "outputs": [],
   "source": [
    "# print out all numbers (regex \"\\d+\") that you can find"
   ]
  },
  {
   "cell_type": "code",
   "execution_count": 17,
   "metadata": {},
   "outputs": [],
   "source": [
    "# split into sentences "
   ]
  },
  {
   "cell_type": "code",
   "execution_count": 18,
   "metadata": {},
   "outputs": [],
   "source": [
    "# find all sentences that contain numbers, and append them to a list\n",
    "\n",
    "sentences_with_numbers = []\n",
    "\n",
    "# YOUR CODE HERE\n"
   ]
  },
  {
   "cell_type": "code",
   "execution_count": 19,
   "metadata": {},
   "outputs": [],
   "source": [
    "# Challenge: write the sentences_with_numbers to a file\n"
   ]
  },
  {
   "cell_type": "markdown",
   "metadata": {},
   "source": [
    "## Task 5: Text processing - programmers' feelings\n",
    "\n",
    "Remember the Menti survey from lecture 01? We copied (most of) your replies to the question \"How do you feel about programming?\" into a text file, `feelings.txt` (provided together with this notebook in a zipped folder). **You want to find out what the 5 most common feelings were.** However, there is some data cleaning to do!\n",
    "\n",
    "You can go about it your own way; **or** take some inspiration from the instructions below:\n",
    "\n",
    "* Read in the file, with the method of your choice (`.read()` or `.readlines()`)\n",
    "* Remove all line breaks and tabulators (`\"\\n\", \"\\t\"`)\n",
    "* You will see that some lines contain only one word, while other lines contain several words; make sure that you can access each word separately (this will depend on what method you choce to read in the file)\n",
    "* since we don't care about upper/lowercase spelling, convert everything to lower case with the `.lower()` method \n",
    "* Create a dictionary where `keys` are words (feelings) and `values` are the number of times they appear. (`Counter` from the `collections` method might help!)\n",
    "* Print out all keys to look through them, and remove the keys that you think don't belong in the list (that don't contain feelings) from the dictionary\n",
    "* Now you can count the number of times each feeling was mentioned (again, with the method of your choice). What were the top 5 most common feelings?"
   ]
  },
  {
   "cell_type": "code",
   "execution_count": 20,
   "metadata": {},
   "outputs": [],
   "source": [
    "# open the file and read it in\n"
   ]
  },
  {
   "cell_type": "code",
   "execution_count": 21,
   "metadata": {},
   "outputs": [],
   "source": [
    "# clean the data\n",
    "\n",
    "# YOUR (LONG) CODE HERE"
   ]
  },
  {
   "cell_type": "code",
   "execution_count": 22,
   "metadata": {},
   "outputs": [],
   "source": [
    "# print out the five most common feelings"
   ]
  }
 ],
 "metadata": {
  "kernelspec": {
   "display_name": "Python 3 (ipykernel)",
   "language": "python",
   "name": "python3"
  },
  "language_info": {
   "codemirror_mode": {
    "name": "ipython",
    "version": 3
   },
   "file_extension": ".py",
   "mimetype": "text/x-python",
   "name": "python",
   "nbconvert_exporter": "python",
   "pygments_lexer": "ipython3",
   "version": "3.11.4"
  }
 },
 "nbformat": 4,
 "nbformat_minor": 4
}
