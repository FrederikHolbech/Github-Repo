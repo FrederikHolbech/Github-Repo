{
 "cells": [
  {
   "cell_type": "markdown",
   "metadata": {},
   "source": [
    "# Exercise 04\n",
    "\n",
    "* Task 1: At the supermarket (list methods)\n",
    "* Task 2: At the ice cream shop (list/set/tuple methods)\n",
    "* Tasks 3 & 4: `for` loops\n",
    "* Tasks 5 & 6: `while` loops"
   ]
  },
  {
   "cell_type": "markdown",
   "metadata": {},
   "source": [
    "***\n",
    "## Task 1: At the supermarket\n",
    "\n",
    "\n",
    "```python\n",
    "shopping_list = [\"onions\", \"milk\", \"bread\", \"butter\", \"rice\", \"vinger\", \"oil\", \"pineapple\", \"onions\", \"salt\", \"chicken\", \"parsley\", \"mint\", \"sugar\", \"onions\"]\n",
    "```\n",
    "\n",
    "Above, we have defined a shopping list, and a snack list. Use list methods and the  operator to:\n",
    "* add `\"oranges\"` to the shopping list\n",
    "* add the `snacks` list to the shopping list (use `+` or `+=`, **not** `.append()`!)\n",
    "* find out at which list position is the `\"chicken\"`\n",
    "* remove `\"butter\"` from the shopping list (turns out we already have that at home)\n",
    "* count how many times does `\"onions\"` appear on the list\n",
    "* sort the shopping list alphabetically, and print it out\n",
    "* make sure that every item appears only once by converting the list to a set, and saving it into the variable `shopping_set`.\n",
    "* how many *unique* items are in our shopping set now?"
   ]
  },
  {
   "cell_type": "markdown",
   "metadata": {},
   "source": [
    "**Solve Task 1**"
   ]
  },
  {
   "cell_type": "code",
   "execution_count": 1,
   "metadata": {},
   "outputs": [],
   "source": [
    "# define the variables \"shopping_list\" and \"snacks\" by running this cell\n",
    "shopping_list = [\n",
    "    \"onions\", \"milk\", \"bread\", \"butter\", \"rice\", \"vinegar\", \n",
    "    \"oil\", \"pineapple\", \"onions\", \"salt\", \"chips\", \"rice\", \n",
    "    \"chicken\", \"parsley\", \"mint\", \"oil\", \"sugar\", \"onions\"\n",
    "    ]\n",
    "snacks = [\"chocolate\", \"ice cream\", \"chips\"]"
   ]
  },
  {
   "cell_type": "code",
   "execution_count": 9,
   "metadata": {},
   "outputs": [],
   "source": [
    "shopping_list.append('oranges')\n",
    "# add oranges"
   ]
  },
  {
   "cell_type": "code",
   "execution_count": 16,
   "metadata": {},
   "outputs": [
    {
     "data": {
      "text/plain": [
       "['onions',\n",
       " 'milk',\n",
       " 'bread',\n",
       " 'butter',\n",
       " 'rice',\n",
       " 'vinegar',\n",
       " 'oil',\n",
       " 'pineapple',\n",
       " 'onions',\n",
       " 'salt',\n",
       " 'chips',\n",
       " 'rice',\n",
       " 'chicken',\n",
       " 'parsley',\n",
       " 'mint',\n",
       " 'oil',\n",
       " 'sugar',\n",
       " 'onions',\n",
       " 'oranges',\n",
       " 'oranges',\n",
       " 's',\n",
       " 'n',\n",
       " 'a',\n",
       " 'c',\n",
       " 'k',\n",
       " 's',\n",
       " 's',\n",
       " 'n',\n",
       " 'a',\n",
       " 'c',\n",
       " 'k',\n",
       " 's',\n",
       " 's',\n",
       " 'n',\n",
       " 'a',\n",
       " 'c',\n",
       " 'k',\n",
       " 's',\n",
       " 'chocolate',\n",
       " 'ice cream',\n",
       " 'chips',\n",
       " 'chocolate',\n",
       " 'ice cream',\n",
       " 'chips']"
      ]
     },
     "execution_count": 16,
     "metadata": {},
     "output_type": "execute_result"
    }
   ],
   "source": [
    "shopping_list+=snacks\n",
    "# add snacks\n",
    "shopping_list"
   ]
  },
  {
   "cell_type": "code",
   "execution_count": 18,
   "metadata": {},
   "outputs": [
    {
     "data": {
      "text/plain": [
       "12"
      ]
     },
     "execution_count": 18,
     "metadata": {},
     "output_type": "execute_result"
    }
   ],
   "source": [
    "# where is the chicken?\n",
    "shopping_list.index('chicken')"
   ]
  },
  {
   "cell_type": "code",
   "execution_count": 20,
   "metadata": {},
   "outputs": [],
   "source": [
    "# remove the butter\n",
    "shopping_list.remove('butter')"
   ]
  },
  {
   "cell_type": "code",
   "execution_count": 21,
   "metadata": {},
   "outputs": [
    {
     "data": {
      "text/plain": [
       "3"
      ]
     },
     "execution_count": 21,
     "metadata": {},
     "output_type": "execute_result"
    }
   ],
   "source": [
    "# Count how many times \"onions\" is on the list\n",
    "shopping_list.count('onions')"
   ]
  },
  {
   "cell_type": "code",
   "execution_count": 23,
   "metadata": {},
   "outputs": [
    {
     "data": {
      "text/plain": [
       "['a',\n",
       " 'a',\n",
       " 'a',\n",
       " 'bread',\n",
       " 'c',\n",
       " 'c',\n",
       " 'c',\n",
       " 'chicken',\n",
       " 'chips',\n",
       " 'chips',\n",
       " 'chips',\n",
       " 'chocolate',\n",
       " 'chocolate',\n",
       " 'ice cream',\n",
       " 'ice cream',\n",
       " 'k',\n",
       " 'k',\n",
       " 'k',\n",
       " 'milk',\n",
       " 'mint',\n",
       " 'n',\n",
       " 'n',\n",
       " 'n',\n",
       " 'oil',\n",
       " 'oil',\n",
       " 'onions',\n",
       " 'onions',\n",
       " 'onions',\n",
       " 'oranges',\n",
       " 'oranges',\n",
       " 'parsley',\n",
       " 'pineapple',\n",
       " 'rice',\n",
       " 'rice',\n",
       " 's',\n",
       " 's',\n",
       " 's',\n",
       " 's',\n",
       " 's',\n",
       " 's',\n",
       " 'salt',\n",
       " 'sugar',\n",
       " 'vinegar']"
      ]
     },
     "execution_count": 23,
     "metadata": {},
     "output_type": "execute_result"
    }
   ],
   "source": [
    "# sort the list alphabetically, and print it out\n",
    "shopping_list.sort()\n",
    "shopping_list"
   ]
  },
  {
   "cell_type": "code",
   "execution_count": 27,
   "metadata": {},
   "outputs": [
    {
     "name": "stdout",
     "output_type": "stream",
     "text": [
      "{'oil', 'a', 'parsley', 'n', 'chicken', 'milk', 'ice cream', 'salt', 'sugar', 'chips', 'oranges', 'pineapple', 'rice', 'onions', 'k', 'vinegar', 'mint', 'c', 's', 'bread', 'chocolate'}\n"
     ]
    }
   ],
   "source": [
    "# convert into a shopping SET\n",
    "set_shopping_list=set(shopping_list)\n",
    "print(set_shopping_list)"
   ]
  },
  {
   "cell_type": "code",
   "execution_count": 28,
   "metadata": {},
   "outputs": [
    {
     "data": {
      "text/plain": [
       "21"
      ]
     },
     "execution_count": 28,
     "metadata": {},
     "output_type": "execute_result"
    }
   ],
   "source": [
    "# number of unique items in a set = simply the length of the set\n",
    "len(set_shopping_list)"
   ]
  },
  {
   "cell_type": "markdown",
   "metadata": {},
   "source": [
    "***\n",
    "## Task 2 - At the ice cream shop\n",
    "\n",
    "You are the owner of an ice cream shop. Your employee who sells the ice cream is a data science student! They decided to write down all ice cream orders of the day in Python. Use `list/set/tuple methods` to find out:\n",
    "* How many ice creams have been sold today?\n",
    "* How many **unique** ice creams have been sold today? \n",
    "> **Note**: the orders are saved as tuples - and for the sake of this exercise, we assume that for ice cream uniqueness, the order matters: `('yoghurt', 'mint')` is **not** the same as `('mint', 'yoghurt')`\n",
    "* How many customers have ordered the same flavor twice? (e.g. `(\"banana\", banana\")`)\n",
    "* Which was the most popular ice cream combination? (There are several ways of finding out. **Hint**: it has been sold five times!)\n",
    "* How many different ice cream flavours have been sold today?"
   ]
  },
  {
   "cell_type": "code",
   "execution_count": 29,
   "metadata": {},
   "outputs": [],
   "source": [
    "# run this cell to define the icecream_sold variable\n",
    "icecream_sold = [\n",
    "    ('yoghurt', 'mint'), ('cookie', 'cookie'), ('caramel', 'yoghurt'), ('yoghurt', 'straciatella'), ('caramel', 'straciatella'),\n",
    "    ('vanilla', 'yoghurt'), ('hazelnut', 'banana'), ('straciatella', 'straciatella'), ('cookie', 'cookie'), ('cookie', 'caramel'),\n",
    "    ('banana', 'straciatella'), ('cheesecake', 'cookie'), ('chocolate', 'chocolate'), ('mint', 'hazelnut'), ('hazelnut', 'cheesecake'),\n",
    "    ('caramel', 'vanilla'), ('yoghurt', 'mint'), ('cheesecake', 'vanilla'), ('chocolate', 'cookie'), ('mint', 'strawberry'), ('cookie', 'strawberry'),\n",
    "    ('hazelnut', 'vanilla'), ('yoghurt', 'strawberry'), ('strawberry', 'chocolate'), ('cheesecake', 'cookie'), ('straciatella', 'vanilla'),\n",
    "    ('caramel', 'banana'), ('mint', 'straciatella'), ('caramel', 'strawberry'), ('cookie', 'strawberry'), ('caramel', 'yoghurt'),\n",
    "    ('strawberry', 'mint'), ('mint', 'hazelnut'), ('banana', 'hazelnut'), ('straciatella', 'banana'), ('mint', 'straciatella'),\n",
    "    ('cheesecake', 'chocolate'), ('mint', 'yoghurt'), ('cookie', 'banana'), ('cheesecake', 'mint'), ('banana', 'straciatella'),\n",
    "    ('mint', 'straciatella'), ('straciatella', 'straciatella'), ('cookie', 'mint'), ('cookie', 'straciatella'), ('banana', 'caramel'),\n",
    "    ('mint', 'cheesecake'), ('chocolate', 'banana'), ('cheesecake', 'vanilla'), ('vanilla', 'yoghurt'), ('hazelnut', 'yoghurt'),\n",
    "    ('hazelnut', 'cookie'), ('strawberry', 'cookie'), ('yoghurt', 'cheesecake'), ('cheesecake', 'banana'), ('vanilla', 'hazelnut'), \n",
    "    ('cookie', 'strawberry'), ('mint', 'straciatella'), ('cheesecake', 'vanilla'), ('cookie', 'strawberry'), ('cookie', 'strawberry')\n",
    "]"
   ]
  },
  {
   "cell_type": "code",
   "execution_count": 40,
   "metadata": {},
   "outputs": [
    {
     "data": {
      "text/plain": [
       "61"
      ]
     },
     "execution_count": 40,
     "metadata": {},
     "output_type": "execute_result"
    }
   ],
   "source": [
    "# How many ice creams have been sold today?\n",
    "len(icecream_sold)"
   ]
  },
  {
   "cell_type": "code",
   "execution_count": 42,
   "metadata": {},
   "outputs": [
    {
     "data": {
      "text/plain": [
       "44"
      ]
     },
     "execution_count": 42,
     "metadata": {},
     "output_type": "execute_result"
    }
   ],
   "source": [
    "# How many UNIQUE ice creams have been sold today?\n",
    "set_icecream_sold=set(icecream_sold)\n",
    "len(set_icecream_sold)"
   ]
  },
  {
   "cell_type": "code",
   "execution_count": 56,
   "metadata": {},
   "outputs": [
    {
     "data": {
      "text/plain": [
       "5"
      ]
     },
     "execution_count": 56,
     "metadata": {},
     "output_type": "execute_result"
    }
   ],
   "source": [
    "# How many customers have ordered the same flavour twice?\n",
    "counter=0\n",
    "for x in icecream_sold:\n",
    "    if x[0]==x[1]:\n",
    "        counter+=1\n",
    "counter\n",
    "    "
   ]
  },
  {
   "cell_type": "code",
   "execution_count": 58,
   "metadata": {},
   "outputs": [
    {
     "name": "stdout",
     "output_type": "stream",
     "text": [
      "('cookie', 'strawberry')\n"
     ]
    }
   ],
   "source": [
    "# Which was the most popular ice cream combination? (if we already know that it has been sold exactly 5 times)\n",
    "\n",
    "for x in icecream_sold:\n",
    "    if icecream_sold.count(x)==5:\n",
    "        print(x)\n",
    "        break"
   ]
  },
  {
   "cell_type": "code",
   "execution_count": 68,
   "metadata": {},
   "outputs": [
    {
     "data": {
      "text/plain": [
       "{'banana',\n",
       " 'caramel',\n",
       " 'cheesecake',\n",
       " 'chocolate',\n",
       " 'cookie',\n",
       " 'hazelnut',\n",
       " 'mint',\n",
       " 'straciatella',\n",
       " 'strawberry',\n",
       " 'vanilla',\n",
       " 'yoghurt'}"
      ]
     },
     "execution_count": 68,
     "metadata": {},
     "output_type": "execute_result"
    }
   ],
   "source": [
    "# How many different ice cream flavours have been sold?\n",
    "flavors=set()\n",
    "for x in icecream_sold:\n",
    "    for y in x:\n",
    "        flavors.add(y)\n",
    "flavors\n",
    "\n"
   ]
  },
  {
   "cell_type": "markdown",
   "metadata": {},
   "source": [
    "***\n",
    "## Task 3\n",
    "\n",
    "**(3a)** Write a function `count_A` that takes a string as an input and uses a `for` loop to count how many times the capital letter `A` appears in it. Test your function on the string `\"THE CAPITAL OF MADAGASCAR IS ANTANANARIVO\"` by asserting that it returns the expected number of letters.\n",
    "\n",
    "**(3b)** Write a modified function, `count_Aa`, which counts both capitalized and small letters (`A` and `a`). Test your modified function on the string `\"A change is as good as a rest\"` by asserting that it returns the expected number of letters.\n"
   ]
  },
  {
   "cell_type": "markdown",
   "metadata": {},
   "source": [
    "**Solve Task 3**"
   ]
  },
  {
   "cell_type": "code",
   "execution_count": 70,
   "metadata": {},
   "outputs": [],
   "source": [
    "# 3a\n",
    "def count_A(input_string):\n",
    "    counter=0\n",
    "    for x in input_string:\n",
    "        if x=='A':\n",
    "            counter+=1\n",
    "    return counter   "
   ]
  },
  {
   "cell_type": "code",
   "execution_count": 74,
   "metadata": {},
   "outputs": [],
   "source": [
    "# check if you have implemented the function correctly with assert and the test string:\n",
    "test_string = \"THE CAPITAL OF MADAGASCAR IS ANTANANARIVO\"\n",
    "assert count_A(test_string)==10"
   ]
  },
  {
   "cell_type": "code",
   "execution_count": 76,
   "metadata": {},
   "outputs": [],
   "source": [
    "# 3b\n",
    "def count_Aa(input_string):\n",
    "    counter=0\n",
    "    for x in input_string:\n",
    "        if x in ['A','a']:\n",
    "            counter+=1\n",
    "    return counter  "
   ]
  },
  {
   "cell_type": "code",
   "execution_count": 79,
   "metadata": {},
   "outputs": [],
   "source": [
    "# check if you have implemented the function correctly with assert and the test string:\n",
    "test_string = \"A change is as good as a rest\"\n",
    "assert count_Aa(test_string) ==5"
   ]
  },
  {
   "cell_type": "markdown",
   "metadata": {},
   "source": [
    "***\n",
    "## Task 4\n",
    "\n",
    "**(4a)** Use a `for` loop and the variable `my_sum` (initally set to 0) to calculate the sum of all numbers from 0 to 500.\n",
    "\n",
    "**(4b)** Use a `for` loop and the variable `my_sum` (initally set to 0) to calculate the sum of all **even** numbers from 0 to 500.\n",
    "\n",
    "**(4c)** Use a `for` loop and the variable `my_sum` (initally set to 0) to calculate the sum of all **divisible by 7** numbers from 0 to 500.\n",
    "\n",
    "> **Hint:** Use the modulo operator `%` for (4b) and (4c)"
   ]
  },
  {
   "cell_type": "markdown",
   "metadata": {},
   "source": [
    "**Solve Task 4**"
   ]
  },
  {
   "cell_type": "code",
   "execution_count": 81,
   "metadata": {},
   "outputs": [
    {
     "data": {
      "text/plain": [
       "125250"
      ]
     },
     "execution_count": 81,
     "metadata": {},
     "output_type": "execute_result"
    }
   ],
   "source": [
    "# 4a: sum of numbers from 0 to 500\n",
    "my_sum=0\n",
    "for x in range(0,501):\n",
    "    my_sum+=x\n",
    "my_sum    \n"
   ]
  },
  {
   "cell_type": "code",
   "execution_count": 82,
   "metadata": {},
   "outputs": [
    {
     "data": {
      "text/plain": [
       "62750"
      ]
     },
     "execution_count": 82,
     "metadata": {},
     "output_type": "execute_result"
    }
   ],
   "source": [
    "# 4b: sum of all even numbers from 0 to 500\n",
    "# same as above, but using a conditional and the modulo %:\n",
    "my_sum=0\n",
    "for x in range(0,501):\n",
    "    if x % 2==0:\n",
    "        my_sum+=x\n",
    "my_sum    "
   ]
  },
  {
   "cell_type": "code",
   "execution_count": 83,
   "metadata": {},
   "outputs": [
    {
     "data": {
      "text/plain": [
       "62750"
      ]
     },
     "execution_count": 83,
     "metadata": {},
     "output_type": "execute_result"
    }
   ],
   "source": [
    "# 4b: alternative solution: we can also make range() take steps of 2:\n",
    "my_sum=0\n",
    "for x in range(0,501,2):\n",
    "    my_sum+=x\n",
    "my_sum    "
   ]
  },
  {
   "cell_type": "code",
   "execution_count": 85,
   "metadata": {},
   "outputs": [
    {
     "data": {
      "text/plain": [
       "17892"
      ]
     },
     "execution_count": 85,
     "metadata": {},
     "output_type": "execute_result"
    }
   ],
   "source": [
    "# 4c: same as above, but now with modulo 7 instead of modulo 2\n",
    "my_sum=0\n",
    "for x in range(0,501):\n",
    "    if not x % 7:\n",
    "        my_sum+=x\n",
    "my_sum    "
   ]
  },
  {
   "cell_type": "markdown",
   "metadata": {},
   "source": [
    "*** \n",
    "## Task 5\n",
    "\n",
    "Use a `while` loop and the assignment operator `+=` to calculate the sum of all numbers from 0 to 500. (Note: this is just a different way of solving task 2a).\n",
    "\n",
    "> **Bonus:** Find an analytical expression to compute this sum with pen&paper. "
   ]
  },
  {
   "cell_type": "markdown",
   "metadata": {},
   "source": [
    "**Solve Task 5**"
   ]
  },
  {
   "cell_type": "code",
   "execution_count": 86,
   "metadata": {},
   "outputs": [
    {
     "data": {
      "text/plain": [
       "125250"
      ]
     },
     "execution_count": 86,
     "metadata": {},
     "output_type": "execute_result"
    }
   ],
   "source": [
    "# task 5\n",
    "x=0\n",
    "my_sum=0\n",
    "while x<501:\n",
    "    my_sum+=x\n",
    "    x+=1\n",
    "my_sum\n",
    "    "
   ]
  },
  {
   "cell_type": "code",
   "execution_count": 92,
   "metadata": {},
   "outputs": [
    {
     "data": {
      "text/plain": [
       "125250"
      ]
     },
     "execution_count": 92,
     "metadata": {},
     "output_type": "execute_result"
    }
   ],
   "source": [
    "# altenative solution of task 5: make an \"eternal\" while loop, but break out of it when i becomes > 500\n",
    "x=0\n",
    "my_sum=0\n",
    "while True:\n",
    "    my_sum+=x\n",
    "    x+=1\n",
    "    if x==501:\n",
    "        break\n",
    "my_sum"
   ]
  },
  {
   "cell_type": "markdown",
   "metadata": {},
   "source": [
    "**Analytical expression for the sum:**"
   ]
  },
  {
   "cell_type": "code",
   "execution_count": 87,
   "metadata": {},
   "outputs": [
    {
     "data": {
      "text/plain": [
       "125250"
      ]
     },
     "execution_count": 87,
     "metadata": {},
     "output_type": "execute_result"
    }
   ],
   "source": []
  },
  {
   "cell_type": "markdown",
   "metadata": {},
   "source": [
    "***\n",
    "## Task 6\n",
    "\n",
    "Use a `for` loop **or** a `while` loop to find out how many integers (0 + 1 + 2 +3 ... + n) you need to sum up to obtain 253. (There are many different ways to do this! If you find just 1, that's enough :) \n",
    "\n",
    "**Hints** Think about how and when to break out of the loop; think about how to make sure that at each loop iteration, we increase by 1 the number that we are adding to the sum.\n",
    "\n",
    "> We can (but we don't have to...) write this task as an equation, that we want to solve for `n`:\n",
    "\n",
    "$\\sum_{i=0}^{n}{i}=253$\n"
   ]
  },
  {
   "cell_type": "markdown",
   "metadata": {},
   "source": [
    "**Solve Task 6**"
   ]
  },
  {
   "cell_type": "code",
   "execution_count": 90,
   "metadata": {},
   "outputs": [
    {
     "data": {
      "text/plain": [
       "23"
      ]
     },
     "execution_count": 90,
     "metadata": {},
     "output_type": "execute_result"
    }
   ],
   "source": [
    "# task 6\n",
    "x=0\n",
    "my_sum=0\n",
    "while True:\n",
    "    my_sum+=x\n",
    "    x+=1\n",
    "    if my_sum>=253:\n",
    "        break\n",
    "x"
   ]
  },
  {
   "cell_type": "code",
   "execution_count": null,
   "metadata": {},
   "outputs": [],
   "source": [
    "# check with an analytical expression, as above in Task 5, if we coded everything correctly"
   ]
  },
  {
   "cell_type": "markdown",
   "metadata": {},
   "source": [
    "***\n",
    "## Task 7 - Find the bug\n",
    "\n",
    "\n",
    "In the code below, somebody tried to remove all even numbers from a list by looping through the list *indeces*, and removing the list *element* if its value is equal to 2. \n",
    "* Why does this not work? What is the hidden danger in this code?\n",
    "* Correct the code so that it removes all numbers \"2\" from the list! (there are several ways to do this)\n",
    "\n",
    "```python\n",
    "my_list = [2, 1, 2, 3, 4, 5]\n",
    "for i in range(len(my_list)):\n",
    "     if my_list[i] == 2:\n",
    "        my_list.remove(my_list[i])\n",
    "print(my_list)\n",
    "```"
   ]
  },
  {
   "cell_type": "code",
   "execution_count": 94,
   "metadata": {},
   "outputs": [
    {
     "name": "stdout",
     "output_type": "stream",
     "text": [
      "[1, 3, 4, 5]\n"
     ]
    }
   ],
   "source": [
    "# Find the bug in the code below!\n",
    "my_list = [2, 1, 2, 3, 4, 5]\n",
    "for i in range(len(my_list)-1,-1,-1):\n",
    "    if my_list[i] == 2:\n",
    "        my_list.remove(my_list[i])\n",
    "print(my_list)"
   ]
  },
  {
   "cell_type": "markdown",
   "metadata": {},
   "source": []
  },
  {
   "cell_type": "code",
   "execution_count": 97,
   "metadata": {},
   "outputs": [
    {
     "name": "stdout",
     "output_type": "stream",
     "text": [
      "[1, 3, 4, 5]\n"
     ]
    }
   ],
   "source": [
    "my_list = [2, 1, 2, 3, 4, 5]\n",
    "while 2 in my_list:\n",
    "    my_list.remove(2)\n",
    "\n",
    "print(my_list)"
   ]
  },
  {
   "cell_type": "code",
   "execution_count": null,
   "metadata": {},
   "outputs": [],
   "source": []
  }
 ],
 "metadata": {
  "kernelspec": {
   "display_name": "Python 3 (ipykernel)",
   "language": "python",
   "name": "python3"
  },
  "language_info": {
   "codemirror_mode": {
    "name": "ipython",
    "version": 3
   },
   "file_extension": ".py",
   "mimetype": "text/x-python",
   "name": "python",
   "nbconvert_exporter": "python",
   "pygments_lexer": "ipython3",
   "version": "3.11.4"
  }
 },
 "nbformat": 4,
 "nbformat_minor": 2
}
