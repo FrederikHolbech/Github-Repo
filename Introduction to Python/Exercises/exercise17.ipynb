{
 "cells": [
  {
   "cell_type": "code",
   "execution_count": 1,
   "metadata": {},
   "outputs": [],
   "source": [
    "import time\n",
    "import matplotlib.pyplot as plt\n",
    "import numpy as np\n",
    "import sys\n",
    "import random"
   ]
  },
  {
   "cell_type": "markdown",
   "metadata": {},
   "source": [
    "# Making code faster"
   ]
  },
  {
   "cell_type": "markdown",
   "metadata": {},
   "source": [
    "Code optimization is the process of modifying a program to make some aspect of it work more efficiently. In general, a computer program may be optimized to deliver high speed, or to make it consume less resources (i.e. CPU, memory, electricity).\n",
    "\n",
    "Today, we will taking at closer look at what can make our code run faster. \n",
    "\n",
    "You will use the magic method `%%timeit` to measure the runtime of your code. Placing `%%timeit` at the beginning of a code cell will give you the mean time for executing the entire code cell. The method will automatically calculate the number of executions required to get sufficiently accurate/stable time results. Further documentation can be found [here](https://ipython.readthedocs.io/en/stable/interactive/magics.html#magic-timeit)."
   ]
  },
  {
   "cell_type": "markdown",
   "metadata": {},
   "source": [
    "### 18.1. Compare three ways to combine 3 lists\n",
    "Consider the three lists below, `list1`, `list2`, and `list3`, with rangesize, n, set to `10`.\n",
    "```py\n",
    "list1 = [0, 1, 2, 3, 4, 5, 6, 7, 8, 9]\n",
    "list2 = [10, 11, 12, 13, 14, 15, 16, 17, 18, 19]\n",
    "list3 = [20, 21, 22, 23, 24, 25, 26, 27, 28, 29]\n",
    "```\n",
    "Write a program that returns a list of tuples, where each tuple contains one element each from the 3 lists. The indices should increment at the same time. For input list with rangesize 10, the output list will be:\n",
    "\n",
    "```py\n",
    "combList = [(0, 10, 20),\n",
    " (1, 11, 21),\n",
    " (2, 12, 22),\n",
    " (3, 13, 23),\n",
    " (4, 14, 24),\n",
    " (5, 15, 25),\n",
    " (6, 16, 26),\n",
    " (7, 17, 27),\n",
    " (8, 18, 28),\n",
    " (9, 19, 29)]\n",
    "```\n",
    "\n",
    "Implement three different solutions using the following methods:\n",
    "1. Using a standard loop based approach\n",
    "2. Using list comprehension\n",
    "3. Using the `zip` method\n",
    "\n",
    "Experiment with rangesize, n, set to the values `50, 100, 1000, 10000, 100000`. "
   ]
  },
  {
   "cell_type": "code",
   "execution_count": 2,
   "metadata": {},
   "outputs": [],
   "source": [
    "n = 50                   # increment n as described\n",
    "\n",
    "list1 = range(n)         # for n = 50, range(50)\n",
    "list2 = range(n,2*n)     # for n = 50, range(50,100)\n",
    "list3 = range(2*n,3*n)   # for n = 50, range(100,150)"
   ]
  },
  {
   "cell_type": "code",
   "execution_count": 3,
   "metadata": {},
   "outputs": [
    {
     "name": "stdout",
     "output_type": "stream",
     "text": [
      "23.4 µs ± 7.42 µs per loop (mean ± std. dev. of 7 runs, 10,000 loops each)\n"
     ]
    }
   ],
   "source": [
    "%%timeit\n",
    "#for loops\n",
    "my_list = []\n",
    "for i in range(n):\n",
    "    my_list.append((list1[i],list2[i],list3[i]))\n",
    "    \n",
    "\n"
   ]
  },
  {
   "cell_type": "code",
   "execution_count": 4,
   "metadata": {},
   "outputs": [
    {
     "name": "stdout",
     "output_type": "stream",
     "text": [
      "18.7 µs ± 1.46 µs per loop (mean ± std. dev. of 7 runs, 10,000 loops each)\n"
     ]
    }
   ],
   "source": [
    "%%timeit\n",
    "#list comprehension\n",
    "my_list = [(list1[i],list2[i],list3[i]) for i in range(n)]"
   ]
  },
  {
   "cell_type": "code",
   "execution_count": 6,
   "metadata": {},
   "outputs": [
    {
     "name": "stdout",
     "output_type": "stream",
     "text": [
      "4.53 µs ± 295 ns per loop (mean ± std. dev. of 7 runs, 100,000 loops each)\n"
     ]
    }
   ],
   "source": [
    "%%timeit\n",
    "#zip\n",
    "my_list = [(a,b,c) for a,b,c in zip(list1,list2,list3)]\n"
   ]
  },
  {
   "cell_type": "markdown",
   "metadata": {},
   "source": [
    "## Lists vs. Numpy arrays"
   ]
  },
  {
   "cell_type": "markdown",
   "metadata": {},
   "source": [
    "### 18.2. Find the mean of elements in a list\n",
    "Consider a the list `py_list = range(1,n)`. Find the mean of the elements in the list.\n",
    "Find the runtime for rangesizes, `n`, with the values `50,100,1000,10000,100000`."
   ]
  },
  {
   "cell_type": "code",
   "execution_count": null,
   "metadata": {},
   "outputs": [],
   "source": [
    "n = 10000\n",
    "py_list = range(1,n)"
   ]
  },
  {
   "cell_type": "code",
   "execution_count": null,
   "metadata": {},
   "outputs": [
    {
     "name": "stdout",
     "output_type": "stream",
     "text": [
      "195 µs ± 20.9 µs per loop (mean ± std. dev. of 7 runs, 1,000 loops each)\n"
     ]
    }
   ],
   "source": [
    "%%timeit\n",
    "# mean using list\n",
    "x = sum(py_list)/ len(py_list)\n"
   ]
  },
  {
   "cell_type": "markdown",
   "metadata": {},
   "source": [
    "### 18.3.  Find the mean of elements in a numpy array\n",
    "Turn the generated `py_list` into a numpy array. Find the mean of the elements in the numpy array.\n",
    "Find the runtime for rangesizes, `n`, with the values `50,100,1000,10000,100000`.\n",
    "\n",
    "- Compare the runtime for the operation on the numpy array vs. the python list"
   ]
  },
  {
   "cell_type": "code",
   "execution_count": null,
   "metadata": {},
   "outputs": [],
   "source": [
    "numpy_arr = np.array(py_list)"
   ]
  },
  {
   "cell_type": "code",
   "execution_count": null,
   "metadata": {},
   "outputs": [
    {
     "name": "stdout",
     "output_type": "stream",
     "text": [
      "22.1 µs ± 857 ns per loop (mean ± std. dev. of 7 runs, 10,000 loops each)\n"
     ]
    }
   ],
   "source": [
    "%%timeit\n",
    "# mean using numpy array\n",
    "np.mean(numpy_arr)"
   ]
  },
  {
   "cell_type": "markdown",
   "metadata": {},
   "source": [
    "##  Python, Numpy and Multiprocessing\n",
    "- The following questions might look familiar to you, as you were introduced to some of those as introductory numpy exercises.\n",
    "- For the following questions, write a program using both numpy and standard python data structures (lists, tuples,  dictionaries, etc.).\n",
    "- For both the cases, use `%%timeit` and observe the performance difference for each of them.\n",
    "    -  Reverse a vector (first element becomes last)\n",
    "    -  Create a 3x3 matrix with values ranging from 0 to 8 \n",
    "    -  Find indices of non-zero elements from [1,2,0,0,4,0]\n",
    "    -  Create a 5x5 matrix with values 1,2,3,4 just below the diagonal\n",
    "    -  Find common values between two arrays\n",
    "    -  How to find the closest value (to a given scalar) in a vector\n",
    "    -  Consider a random vector with shape (100,2) representing coordinates, find point by point distances \n",
    "    -  Subtract the mean of each row of a matrix with elements of the row\n",
    "    -  Compute averages using a sliding window over an array\n",
    "    -  Find the most frequent value in an array\n"
   ]
  },
  {
   "cell_type": "code",
   "execution_count": null,
   "metadata": {},
   "outputs": [
    {
     "name": "stdout",
     "output_type": "stream",
     "text": [
      "291 ns ± 10.1 ns per loop (mean ± std. dev. of 7 runs, 1,000,000 loops each)\n"
     ]
    }
   ],
   "source": [
    "%%timeit\n",
    "#Reverse a vector (first element becomes last) using standard python data structures\n",
    "def reverse_vector(vector):\n",
    "    return vector[::-1]\n",
    "\n",
    "vector = [1,2,3,4,5]\n",
    "reverse_vector(vector)\n"
   ]
  },
  {
   "cell_type": "code",
   "execution_count": null,
   "metadata": {},
   "outputs": [
    {
     "name": "stdout",
     "output_type": "stream",
     "text": [
      "1.8 µs ± 126 ns per loop (mean ± std. dev. of 7 runs, 1,000,000 loops each)\n"
     ]
    }
   ],
   "source": [
    "%%timeit\n",
    "#Reverse a vector using numpy\n",
    "def reverse_vector_np(vector):\n",
    "    return np.flip(vector)\n",
    "\n",
    "reverse_vector_np(vector)\n"
   ]
  },
  {
   "cell_type": "code",
   "execution_count": null,
   "metadata": {},
   "outputs": [
    {
     "name": "stdout",
     "output_type": "stream",
     "text": [
      "150 ns ± 2.21 ns per loop (mean ± std. dev. of 7 runs, 10,000,000 loops each)\n"
     ]
    }
   ],
   "source": [
    "%%timeit\n",
    "#Create a 3x3 matrix with values ranging from 0 to 8 using standard python data structures\n",
    "#using nested lists\n",
    "matrix = [[0,1,2],[3,4,5],[6,7,8]]"
   ]
  },
  {
   "cell_type": "code",
   "execution_count": null,
   "metadata": {},
   "outputs": [
    {
     "name": "stdout",
     "output_type": "stream",
     "text": [
      "685 ns ± 29.6 ns per loop (mean ± std. dev. of 7 runs, 1,000,000 loops each)\n"
     ]
    }
   ],
   "source": [
    "%%timeit\n",
    "#Create a 3x3 matrix with values ranging from 0 to 8 using numpy\n",
    "#using np.arange to create the range 0-8 and reshape to make it into a 3x3 array\n",
    "np.arange(9).reshape(3,3)"
   ]
  },
  {
   "cell_type": "code",
   "execution_count": null,
   "metadata": {},
   "outputs": [
    {
     "name": "stdout",
     "output_type": "stream",
     "text": [
      "556 ns ± 22.7 ns per loop (mean ± std. dev. of 7 runs, 1,000,000 loops each)\n"
     ]
    }
   ],
   "source": [
    "%%timeit\n",
    "#Find indices of non-zero elements from [1,2,0,0,4,0] using standard python data structures\n",
    "#enumerate iterates through the elements in my_list which provides both the element and it's index,\n",
    "#we get a list of the indices of where the element is nonzero\n",
    "my_list = [1,2,0,0,4,0]\n",
    "\n",
    "find_nonzero = [i for i, x in enumerate(my_list) if x!= 0]\n"
   ]
  },
  {
   "cell_type": "code",
   "execution_count": null,
   "metadata": {},
   "outputs": [
    {
     "name": "stdout",
     "output_type": "stream",
     "text": [
      "2.75 µs ± 27.8 ns per loop (mean ± std. dev. of 7 runs, 100,000 loops each)\n"
     ]
    }
   ],
   "source": [
    "%%timeit\n",
    "#Find indices of non-zero elements from [1,2,0,0,4,0] using numpy\n",
    "#create the array of the list, and then use np.where and set the desired value\n",
    "my_list = np.array([1,2,0,0,4,0])\n",
    "np.where(my_list != 0)[0]"
   ]
  },
  {
   "cell_type": "code",
   "execution_count": null,
   "metadata": {},
   "outputs": [
    {
     "name": "stdout",
     "output_type": "stream",
     "text": [
      "2.73 µs ± 61.7 ns per loop (mean ± std. dev. of 7 runs, 100,000 loops each)\n"
     ]
    }
   ],
   "source": [
    "%%timeit\n",
    "#Create a 5x5 matrix with values 1,2,3,4 just below the diagonal using standard python data structures\n",
    "my_5x5_matrix = [[0 for _ in range(5)] for _ in range (5)]\n",
    "#first create a 5x5 matrix with all zeros\n",
    "\n",
    "#now put the numbers just below the diagonal, by looping through the amount of numbers, and adding\n",
    "#+1 to i because the count starts at 0, and then add that number to the row i + 1 and the column i.\n",
    "#so we add the number i+1 to the i + 1 row and ith columns. so first we get on the 0th row and 0 column\n",
    "#0+0, then we get 0+1 on the 1st row and 1st column and so on and so on, so it is always one below.\n",
    "for i in range(4):\n",
    "    my_5x5_matrix[i+1][i] = i + 1\n",
    "\n",
    "#print(my_5x5_matrix)"
   ]
  },
  {
   "cell_type": "code",
   "execution_count": null,
   "metadata": {},
   "outputs": [
    {
     "name": "stdout",
     "output_type": "stream",
     "text": [
      "1.13 µs ± 18.9 ns per loop (mean ± std. dev. of 7 runs, 1,000,000 loops each)\n"
     ]
    }
   ],
   "source": [
    "%%timeit\n",
    "#Create a 5x5 matrix with values 1,2,3,4 just below the diagonal using numpy\n",
    "#again first create a 5x5 matrix with all zeros using np.zeros\n",
    "matrix1 = np.zeros((5,5))\n",
    "\n",
    "#now again loop through the amount of numbers, and add i+1 to the ith+1 row and ith column\n",
    "for i in range(4):\n",
    "    matrix1[i +1,i] = i + 1\n",
    "#print(matrix1)"
   ]
  },
  {
   "cell_type": "code",
   "execution_count": null,
   "metadata": {},
   "outputs": [
    {
     "name": "stdout",
     "output_type": "stream",
     "text": [
      "858 ns ± 20.3 ns per loop (mean ± std. dev. of 7 runs, 1,000,000 loops each)\n"
     ]
    }
   ],
   "source": [
    "%%timeit\n",
    "#Find common values between two arrays using standard python data structures\n",
    "list1 = [random.randrange(1000)]\n",
    "list2 = [random.randrange(1000)]\n",
    "list3 = []\n",
    "for x in list1:\n",
    "    if x in list2:\n",
    "        list3.append(x)\n",
    "#print(list3)"
   ]
  },
  {
   "cell_type": "code",
   "execution_count": null,
   "metadata": {},
   "outputs": [
    {
     "name": "stdout",
     "output_type": "stream",
     "text": [
      "67.6 µs ± 916 ns per loop (mean ± std. dev. of 7 runs, 10,000 loops each)\n"
     ]
    }
   ],
   "source": [
    "%%timeit\n",
    "#Find common values between two arrays using numpy\n",
    "array1 = np.random.randint(1000, size=100).reshape(10,10)\n",
    "array2 = np.random.randint(1000, size=100).reshape(10,10)\n",
    "commonvalues = []\n",
    "commonvalues.append(np.intersect1d(array1,array2))\n",
    "#print(commonvalues)"
   ]
  },
  {
   "cell_type": "code",
   "execution_count": null,
   "metadata": {},
   "outputs": [
    {
     "name": "stdout",
     "output_type": "stream",
     "text": [
      "66.8 ns ± 0.801 ns per loop (mean ± std. dev. of 7 runs, 10,000,000 loops each)\n"
     ]
    }
   ],
   "source": [
    "%%timeit\n",
    "#How to find the closest value (to a given scalar) in a vector using standard python data structures\n",
    "def find_closest_value(target,vector):\n",
    "    closest_value = None\n",
    "    min_difference = float(\"inf\")\n",
    "\n",
    "    for element in vector:\n",
    "        difference = abs(element - target)\n",
    "\n",
    "        if difference < min_difference:\n",
    "            min_difference = difference\n",
    "            closest_value = element\n",
    "\n",
    "    return closest_value\n",
    "\n",
    "#find_closest_value(25,[10,20,30,40,50,60])"
   ]
  },
  {
   "cell_type": "code",
   "execution_count": null,
   "metadata": {},
   "outputs": [
    {
     "name": "stdout",
     "output_type": "stream",
     "text": [
      "68.8 ns ± 1.35 ns per loop (mean ± std. dev. of 7 runs, 10,000,000 loops each)\n"
     ]
    }
   ],
   "source": [
    "%%timeit\n",
    "#How to find the closest value (to a given scalar) in a vector using Numpy\n",
    "def find_closest_value1(target, vector):\n",
    "    vector = np.array(vector)\n",
    "    absolute_difference = np.abs(vector-target)\n",
    "    closest_index = np.argmin(absolute_difference)\n",
    "    closest_value = vector[closest_index]\n",
    "    return closest_value\n",
    "#find_closest_value1(25, [10,20,30,40,50,60])"
   ]
  },
  {
   "cell_type": "code",
   "execution_count": 7,
   "metadata": {},
   "outputs": [],
   "source": [
    "stepsize = 500\n",
    "import random\n",
    "random.seed(5126423231512)\n",
    "#Creates a list of random numbers\n",
    "list4 = []*stepsize\n",
    "for i in range(stepsize):\n",
    "    list4.append(int(random.random() * 12353215321000 % 752293777))"
   ]
  },
  {
   "cell_type": "markdown",
   "metadata": {},
   "source": [
    "Run through list4 and find if any number equals 79. Print True when you find it."
   ]
  },
  {
   "cell_type": "code",
   "execution_count": 8,
   "metadata": {},
   "outputs": [
    {
     "name": "stdout",
     "output_type": "stream",
     "text": [
      "12.7 µs ± 1.52 µs per loop (mean ± std. dev. of 7 runs, 100,000 loops each)\n"
     ]
    }
   ],
   "source": [
    "%%timeit\n",
    "found = False\n",
    "def onepass(list4):\n",
    "    for i in list4:\n",
    "        #find 79\n",
    "        if i == 79:\n",
    "            found = True\n",
    "            break\n",
    "    return found\n",
    "onepass(list4)"
   ]
  },
  {
   "cell_type": "markdown",
   "metadata": {},
   "source": [
    "Check if two items are the same in list 4. The basic way of doing this is to have a for loop run though the list and while another runs though the list again and compare the two against eachother"
   ]
  },
  {
   "cell_type": "code",
   "execution_count": null,
   "metadata": {},
   "outputs": [
    {
     "name": "stdout",
     "output_type": "stream",
     "text": [
      "2.87 ms ± 134 µs per loop (mean ± std. dev. of 7 runs, 100 loops each)\n"
     ]
    }
   ],
   "source": [
    "%%timeit\n",
    "def Nsquared(list4):\n",
    "    for item1 in list4:\n",
    "        for item2 in list4:\n",
    "            if item1 == item2:\n",
    "                same = True\n",
    "                break\n",
    "    return same\n",
    "            #Compare item1 vs item. If they are the same print True\n",
    "Nsquared(list4)"
   ]
  },
  {
   "cell_type": "markdown",
   "metadata": {},
   "source": [
    "Run though the list to check if list4 and add 5 to each number. Then check if the number 39381552 appears. "
   ]
  },
  {
   "cell_type": "code",
   "execution_count": 10,
   "metadata": {},
   "outputs": [
    {
     "name": "stdout",
     "output_type": "stream",
     "text": [
      "31.2 µs ± 2.02 µs per loop (mean ± std. dev. of 7 runs, 10,000 loops each)\n"
     ]
    }
   ],
   "source": [
    "%%timeit\n",
    "def runtwice(list4):\n",
    "    for item1 in list4:\n",
    "        item1 += 5\n",
    "    for item in list4:\n",
    "        if(item == 39381552):\n",
    "            return True\n",
    "runtwice(list4)"
   ]
  },
  {
   "cell_type": "markdown",
   "metadata": {},
   "source": [
    "Pop each element from list5. Do they same for list6 but instead use pop(0). Time the results using timeit and explain why one performs better than the other."
   ]
  },
  {
   "cell_type": "code",
   "execution_count": 27,
   "metadata": {},
   "outputs": [],
   "source": [
    "stepsize = 5000\n",
    "\n",
    "#use pop()\n",
    "list5 = list(range(stepsize))\n",
    "#use pop(0)\n",
    "list6 = list(range(stepsize))"
   ]
  },
  {
   "cell_type": "code",
   "execution_count": 30,
   "metadata": {},
   "outputs": [
    {
     "name": "stdout",
     "output_type": "stream",
     "text": [
      "289 ns ± 24 ns per loop (mean ± std. dev. of 7 runs, 1,000,000 loops each)\n"
     ]
    }
   ],
   "source": [
    "%%timeit\n",
    "def pop(list5):\n",
    "    #use pop for each item in the list\n",
    "    for _ in range(len(list5)):\n",
    "        element = list5.pop()\n",
    "    return list5\n",
    "        \n",
    "    \n",
    "pop(list5)"
   ]
  },
  {
   "cell_type": "code",
   "execution_count": 35,
   "metadata": {},
   "outputs": [
    {
     "name": "stdout",
     "output_type": "stream",
     "text": [
      "285 ns ± 15.8 ns per loop (mean ± std. dev. of 7 runs, 1,000,000 loops each)\n"
     ]
    }
   ],
   "source": [
    "%%timeit\n",
    "def pop0(list6):\n",
    "    for _ in range(len(list6)):\n",
    "        element6 = list6.pop(0)\n",
    "    return list6\n",
    "    \n",
    "pop0(list6)"
   ]
  },
  {
   "cell_type": "markdown",
   "metadata": {},
   "source": [
    "Compare the time difference of the 3 tasks on list4, using different step sizes. Which one takes the longest? Which one takes twice as long as the other?"
   ]
  },
  {
   "cell_type": "code",
   "execution_count": null,
   "metadata": {},
   "outputs": [],
   "source": [
    "step_sizes = [1,10,100,1000,10000]"
   ]
  },
  {
   "cell_type": "markdown",
   "metadata": {},
   "source": [
    "Create your own tester  class that tests how long it takes to run a function and plots it against others."
   ]
  },
  {
   "cell_type": "code",
   "execution_count": null,
   "metadata": {},
   "outputs": [],
   "source": [
    "class tester:\n",
    "    def __init__(self):\n",
    "        self.tests = {} # key is name of test and while value is a list of the test at different step sizes\n",
    "        self.step_sizes = [1,10,100,1000,10000]\n",
    "        self.runs = 10 #part of bonus\n",
    "    def addtestfunction(self,fuctionname,function):\n",
    "        self.tests[fuctionname] = [] #intialize results to empty list so we can add to it.\n",
    "        for step_size in self.step_sizes:\n",
    "            alist = range(step_size)\n",
    "                \n",
    "            #TODO\n",
    "            #test how long each function took and set time equal to that\n",
    "            #HINT: time.time() gets current time\n",
    "            \n",
    "            #call function by:\n",
    "            function(alist)\n",
    "\n",
    "            #BONUS: run multiple tests and plot times or use average of times.\n",
    "            time = 0 #set to average time, whether you did 1 or 10 runs.            \n",
    "            \n",
    "            #adds to test (i.e. results)\n",
    "            self.tests[fuctionname].append(time)\n",
    "\n",
    "    def plot(self):\n",
    "        #TODO\n",
    "        #plot all tests done\n",
    "        \n",
    "        \n",
    "        #BONUS you can use yscale and xscale to make a logarithmic graph\n",
    "        #https://matplotlib.org/3.1.1/api/_as_gen/matplotlib.pyplot.yscale.html\n",
    "        plt.show()\n",
    "        \n",
    "\n",
    "tester = tester()\n",
    "tester.addtestfunction('onepass',onepass)\n",
    "tester.addtestfunction('runtwice',runtwice)\n",
    "tester.addtestfunction('Nsquared',Nsquared)\n",
    "tester.addtestfunction('pop',pop)\n",
    "tester.addtestfunction('pop0',pop0)\n",
    "tester.plot()\n",
    "#comment out %%timeit for each function otherwise python wont be able to find the functions"
   ]
  },
  {
   "cell_type": "markdown",
   "metadata": {},
   "source": [
    "### References\n",
    "\n",
    "- https://towardsdatascience.com/a-hitchhiker-guide-to-python-numpy-arrays-9358de570121\n",
    "- https://github.com/rougier/numpy-100/blob/master/100_Numpy_exercises.ipynb"
   ]
  }
 ],
 "metadata": {
  "kernelspec": {
   "display_name": "Python 3",
   "language": "python",
   "name": "python3"
  },
  "language_info": {
   "codemirror_mode": {
    "name": "ipython",
    "version": 3
   },
   "file_extension": ".py",
   "mimetype": "text/x-python",
   "name": "python",
   "nbconvert_exporter": "python",
   "pygments_lexer": "ipython3",
   "version": "3.11.4"
  }
 },
 "nbformat": 4,
 "nbformat_minor": 2
}
