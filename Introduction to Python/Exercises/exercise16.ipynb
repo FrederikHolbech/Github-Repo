{
 "cells": [
  {
   "cell_type": "code",
   "execution_count": 1,
   "metadata": {},
   "outputs": [],
   "source": [
    "from math import pi\n",
    "import random"
   ]
  },
  {
   "cell_type": "markdown",
   "metadata": {},
   "source": [
    "# Classes and Objects\n",
    "An object is, simply put, a collection of variables and functions that make up a single entity, and objects get their variables and functions from classes. This means that classes are essentially blueprints to create objects. \n",
    "\n",
    "Just like we can have many houses made from the same blueprint in real life, we can create many objects from a class. An object is also called an instance of a class.\n",
    "\n",
    "Class names are per convention usually written in pascal case (WhichLooksLikeThis), and class methods are written in dromedary case (whichLooksSlightlyDifferent)."
   ]
  },
  {
   "cell_type": "markdown",
   "metadata": {},
   "source": [
    "## Sphere\n",
    "\n",
    "\n",
    "### 16.1. Write a class to represent spheres\n",
    "A skeleton class with a finished constructor and the method `getRadius` (returns the radius) has been provided for this first exercise.\n",
    "\n",
    "Your job is to implement the following class methods: \n",
    "- `surfaceArea` -- should return the surface area as a float rounded to 3 decimal points \n",
    "- `volume` -- should return the volume as a float rounded to 3 decimal points\n",
    "\n",
    "$$sphere_{surfaceArea} = 4 \\pi r^{2} $$\n",
    "$$sphere_{volume} = \\frac{4}{3} \\pi r^{3} $$\n",
    "\n",
    "We have imported `pi` from the math library for you"
   ]
  },
  {
   "cell_type": "code",
   "execution_count": 2,
   "metadata": {},
   "outputs": [],
   "source": [
    "class Sphere: \n",
    "    def __init__(self, radius):\n",
    "        self.radius = radius\n",
    "    \n",
    "    def getRadius(self):\n",
    "        return self.radius\n",
    "    \n",
    "    def surfaceArea(self):\n",
    "        return round(4 * pi *self.radius**2, 3)\n",
    "    \n",
    "    def volume(self):\n",
    "        return round((4/3)*pi*self.radius**3)"
   ]
  },
  {
   "cell_type": "markdown",
   "metadata": {},
   "source": [
    "### 16.2. Make a couple of instances of the new Sphere class and apply the methods\n",
    "Set the variable `sphereX` to be an instance of your new 'Sphere' class.  \n",
    "Give it the radius `X` as a parameter and use the built-in functions to obtain the radius, surface area and volume.\n",
    "___\n",
    "`sphere1 = Sphere(1)`\n",
    "\n",
    "`sphere1.getRadius()`  \n",
    "\\>\\> `1.0`  \n",
    "\n",
    "`sphere1.surfaceArea()`  \n",
    "\\>\\> `12.566`  \n",
    "\n",
    "`sphere1.volume()`  \n",
    "\\>\\> `4.189`  "
   ]
  },
  {
   "cell_type": "code",
   "execution_count": 7,
   "metadata": {},
   "outputs": [
    {
     "name": "stdout",
     "output_type": "stream",
     "text": [
      "2\n",
      "50.265\n",
      "34\n"
     ]
    }
   ],
   "source": [
    "sphere2 = Sphere(2)\n",
    "print(sphere2.getRadius())\n",
    "print(sphere2.surfaceArea())\n",
    "print(sphere2.volume())"
   ]
  },
  {
   "cell_type": "markdown",
   "metadata": {},
   "source": [
    "## Cube\n",
    "\n",
    "### 16.3. Write a class to represent cubes\n",
    "Just like the Sphere class from before, but this time you have to do it from scratch and with a much cooler shape.\n",
    "\n",
    "The constructor (`__init__`) should, in addition to `self`, accept the side length, `s`, as a parameter. Remember, as this is a cube, all the sides will be of the same length, and so we only need to supply the length as a single parameter.\n",
    "\n",
    "Implement the following class methods: \n",
    "- `getSide` -- should return the side length as an unrounded float\n",
    "- `surfaceArea` -- should return the surface area as a float rounded to 3 decimal points \n",
    "- `volume` -- should return the volume as a float rounded to 3 decimal points\n",
    "\n",
    "$$cube_{surfaceArea} = 6 s^{2} $$\n",
    "$$cube_{volume} = s^{3} $$\n",
    "\n",
    "Make a couple of instances of the Cube class with different side lengths, and use the built-in functions you made to obtain the side lengths, surface areas and volumes.\n",
    "___\n",
    "`cube5 = Cube(5)`  \n",
    "\n",
    "`cube5.getSide()`  \n",
    "\\>\\> `5.0`  \n",
    "\n",
    "`cube5.surfaceArea()`  \n",
    "\\>\\> `150.0`  \n",
    "\n",
    "`cube5.volume()`  \n",
    "\\>\\> `125.0`"
   ]
  },
  {
   "cell_type": "code",
   "execution_count": 9,
   "metadata": {},
   "outputs": [
    {
     "name": "stdout",
     "output_type": "stream",
     "text": [
      "5\n",
      "150\n",
      "125\n"
     ]
    }
   ],
   "source": [
    "class Cube: \n",
    "    def __init__(self, side):\n",
    "        self.side = side\n",
    "    \n",
    "    def getSide(self):\n",
    "        return self.side\n",
    "    \n",
    "    def surfaceArea(self):\n",
    "        return round(6 *self.side**2, 3)\n",
    "    \n",
    "    def volume(self):\n",
    "        return round(self.side**3)\n",
    "cube5 = Cube(5)\n",
    "print(cube5.getSide())\n",
    "print(cube5.surfaceArea())\n",
    "print(cube5.volume())"
   ]
  },
  {
   "cell_type": "markdown",
   "metadata": {},
   "source": [
    "## Playing cards\n",
    "\n",
    "Here we will implement a string representation for our class, so we can print our objects in a sensible way. Try running `print(sphere1)` to see for yourself why this is necessary. \n",
    "\n",
    "The method `__str__` is one of the so-called [magic methods](https://www.geeksforgeeks.org/dunder-magic-methods-python/) in Python. If asked to convert an object into a string, i.e. for a print statement, Python uses this method if it exists.\n",
    "\n",
    "### 16.4. Implement a class to represent a playing card\n",
    "Your class should have the following methods:\n",
    "- `__init__ (self, rank, suit)` -- Creates the corresponding card\n",
    "    - rank is an integer with value 1-13 indicating the ranks ace-king\n",
    "    - suit is a single character string `'d'`, `'c'`, `'h'`, or `'s'` indicating the suit (diamonds, clubs, hearts, or spades). \n",
    " \n",
    "- `getRank(self)` -- Returns the rank of the card as an int.\n",
    "- `getSuit(self)` -- Returns the suit of the card as a single character string.\n",
    "- `value(self)` -- Returns the value of a card. \n",
    "    - Ace counts as `15`\n",
    "    - All normal numbered cards have their rank as value, i.e. 8 of hearts counts as `8`\n",
    "    - All face cards count as `10`\n",
    "- `__str__(self)` -- Returns a string that names the card. For example, `'Ace of Spades'`."
   ]
  },
  {
   "cell_type": "code",
   "execution_count": 13,
   "metadata": {},
   "outputs": [
    {
     "data": {
      "text/plain": [
       "Eight of Spades"
      ]
     },
     "execution_count": 13,
     "metadata": {},
     "output_type": "execute_result"
    }
   ],
   "source": [
    "class PlayingCard:\n",
    "    \"\"\"this class creates a card with a rank, which is an \n",
    "    integer with value 1-13, a suit, which is a single \n",
    "    character string \"d\" \"c\" \"h\" or \"s\" indicating the suits \n",
    "    of playing cards\"\"\"\n",
    "    def __init__(self, rank, suit):\n",
    "        self.rank = rank\n",
    "        self.suit = suit\n",
    "    \n",
    "    def __lt__(self, other): #lt stands for less than\n",
    "        return self.get_value() < other\n",
    "    \n",
    "    def __eq__(self, other): #eq stands for equal\n",
    "        return self.get_value() == other\n",
    "    \n",
    "    def __gt__(self, other): #gt stands for greater than\n",
    "        return self.get_value() > other\n",
    "\n",
    "\n",
    "    def get_rank(self):\n",
    "        return self.rank\n",
    "    \n",
    "    def get_suit(self):\n",
    "        return self.suit\n",
    "    \n",
    "    def get_value(self):\n",
    "        if self.rank == 1:\n",
    "            return 15\n",
    "        if self.rank >= 10:\n",
    "            return 10\n",
    "\n",
    "        return self.rank\n",
    "    \n",
    "    def __str__(self):\n",
    "        suit_map = {\n",
    "            \"d\": \"Diamonds\",\n",
    "            \"c\": \"Clubs\",\n",
    "            \"h\": \"Hearts\",\n",
    "            \"s\": \"Spades\"\n",
    "        }\n",
    "        card_suit = suit_map[self.suit]\n",
    "\n",
    "        rank_map = {\n",
    "            1: \"Ace\",\n",
    "            2: \"Two\",\n",
    "            3: \"Three\",\n",
    "            4: \"Four\",\n",
    "            5: \"Five\",\n",
    "            6: \"Six\",\n",
    "            7: \"Seven\",\n",
    "            8: \"Eight\",\n",
    "            9: \"Nine\",\n",
    "            10: \"Ten\",\n",
    "            11: \"Jack\",\n",
    "            12: \"Queen\",\n",
    "            13: \"King\"\n",
    "        }\n",
    "        card_rank = rank_map[self.rank]\n",
    "        return f\"{card_rank} of {card_suit}\"\n",
    "\n",
    "    def __repr__(self):\n",
    "        return self.__str__()\n",
    "    \n",
    "PlayingCard(8,\"s\")"
   ]
  },
  {
   "cell_type": "markdown",
   "metadata": {},
   "source": [
    "### 16.5. Make a function that simulates drawing a number of cards\n",
    "Hint: [random.randrange()](https://www.w3schools.com/python/ref_random_randrange.asp) and [random.choice()](https://www.w3schools.com/python/ref_random_choice.asp)\n",
    "      \n",
    "Test your Card class with a function, `drawCards(n)`, that returns a list of `n` randomly generated card objects and their associated value as a tuples of length 2.\n",
    "___\n",
    "Example of requested behaviour:\n",
    "\n",
    "`drawCards(3)`  \n",
    "\\>\\> `[(Ace of Spades, 15), (Queen of Hearts, 10), (6 of Diamonds, 6)]`"
   ]
  },
  {
   "cell_type": "code",
   "execution_count": 14,
   "metadata": {},
   "outputs": [
    {
     "data": {
      "text/plain": [
       "[(Six of Hearts, 6),\n",
       " (Five of Diamonds, 5),\n",
       " (Three of Hearts, 3),\n",
       " (Two of Clubs, 2)]"
      ]
     },
     "execution_count": 14,
     "metadata": {},
     "output_type": "execute_result"
    }
   ],
   "source": [
    "import random\n",
    "def draw_card():\n",
    "    suit = random.choice([\"s\",\"h\",\"c\",\"d\"])\n",
    "    rank = random.randrange(1,14)\n",
    "    return PlayingCard(rank,suit)\n",
    "\n",
    "def draw_cards(n):\n",
    "    my_list = []\n",
    "    for _ in range(n):\n",
    "        card = draw_card()\n",
    "        my_list.append((card,card.get_value()))\n",
    "    return my_list\n",
    "\n",
    "draw_cards(4)\n",
    "\n"
   ]
  },
  {
   "cell_type": "markdown",
   "metadata": {},
   "source": [
    "### 16.6. Make a function that simulates a single round of the card game \"war\"\n",
    "Using the class created for playing cards, make a function, `war()` that simulates a single round of the children's card game \"war\". The rules are simple: \n",
    "- There are two players, A and B.\n",
    "- Each player is given 1 random card.\n",
    "- The player with the highest card value wins (suits do not matter).\n",
    "\n",
    "Use your `drawCards()` function from exercise 16.7 to draw the card for each player.\n",
    "\n",
    "The function should return one of three options: `'A wins!'`, `'B wins!'` or `'Tie'`.\n",
    "\n",
    "For a **bonus challenge**, ensure that the two players cannot draw the same card, i.e. they should not be able to both draw the Queen of Hearts at the same time. \n",
    "___\n",
    "\n",
    "Example of requested behaviour:\n",
    "\n",
    "`war()`  \n",
    "\\>\\> `A wins!`"
   ]
  },
  {
   "cell_type": "code",
   "execution_count": 47,
   "metadata": {},
   "outputs": [
    {
     "data": {
      "text/plain": [
       "\"A's card has value 12, B's card has value 13. Therefore B wins!\""
      ]
     },
     "execution_count": 47,
     "metadata": {},
     "output_type": "execute_result"
    }
   ],
   "source": [
    "def draw_card():\n",
    "    rank = random.randrange(1,14)\n",
    "    return rank\n",
    "\n",
    "def war():\n",
    "    playerA = draw_card()\n",
    "    playerB = draw_card()\n",
    "\n",
    "    if playerA > playerB:\n",
    "        return f\"A's card has value {playerA}, B's card has value {playerB}. Therefore A wins!\"\n",
    "    if playerA == playerB:\n",
    "        return f\"A's card has value {playerA}, B's card has value {playerB}. Therefore it is a tie\"\n",
    "    else:\n",
    "        return f\"A's card has value {playerA}, B's card has value {playerB}. Therefore B wins!\"\n",
    "war()"
   ]
  },
  {
   "cell_type": "markdown",
   "metadata": {},
   "source": [
    "## Bonus Questions"
   ]
  },
  {
   "cell_type": "markdown",
   "metadata": {},
   "source": [
    "### BONUS\n",
    "Create a regular deck of 52 playing cards (use a list containing Card objects). Remember to [shuffle](https://www.w3schools.com/python/ref_random_shuffle.asp) the deck!\n",
    "\n",
    "Write a script to simulate a complete game of \"war\" with two players.  \n",
    "The full rules are as follows:\n",
    "- The two players get dealt half the deck each. Each player should begin the game with 26 cards in their pile.\n",
    "- A round is played. The person who has the higher card value wins the cards played in the round.\n",
    "- If the round is a tie, players put the tied cards -- as well as three additional cards each from the top of their piles -- in the 'ante' and play another round. The winner of this round also wins all cards in the 'ante'.\n",
    "- Cards won go on the bottom of the winning player's pile.\n",
    "- The order of the cards when they go to the bottom of a player's pile is arbitrary. You may shuffle them if you like.\n",
    "- The players keep playing rounds until one player has *all* the cards and thus wins the game.\n",
    "- If there is a tie, and a player has too few cards to do the ante (and flip a new card after), they lose the game.\n",
    "\n",
    "Hint: https://www.geeksforgeeks.org/python-list-pop/\n",
    "\n",
    "Try to figure out a way to detect whether a player's stack of cards is empty before trying to draw a card. Otherwise you might run into an `IndexError` when trying to pop from an empty list.\n",
    "\n",
    "**This means that you should not rely on a try-except!**"
   ]
  },
  {
   "cell_type": "code",
   "execution_count": null,
   "metadata": {},
   "outputs": [],
   "source": []
  }
 ],
 "metadata": {
  "kernelspec": {
   "display_name": "Python 3 (ipykernel)",
   "language": "python",
   "name": "python3"
  },
  "language_info": {
   "codemirror_mode": {
    "name": "ipython",
    "version": 3
   },
   "file_extension": ".py",
   "mimetype": "text/x-python",
   "name": "python",
   "nbconvert_exporter": "python",
   "pygments_lexer": "ipython3",
   "version": "3.11.4"
  }
 },
 "nbformat": 4,
 "nbformat_minor": 4
}
