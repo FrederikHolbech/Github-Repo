{
 "cells": [
  {
   "cell_type": "markdown",
   "metadata": {},
   "source": [
    "# Assignment 8\n",
    "#### Due November 20, 2023, 23:59\n",
    "\n",
    "In this week’s assignment, we dive into network science.  \n",
    "Graphs are powerful constructs with even more powerful mathematical properties that we can take advantage of when we can formulate our problems as a graph. This time around, we are interested in one network property in particular: the **local clustering coefficient** of a node.\n",
    "\n",
    "## Submission\n",
    "Edit and turn in this jupyter notebook file containing your solutions to each task.  \n",
    "Implement your solution to each of the tasks in the code field below the task description.  \n",
    "\n",
    "The libraries you may need are already given, **any extra imports are not allowed**.\n",
    "\n",
    "___\n",
    "\n",
    "### Local clustering coefficient\n",
    "In this assignment, we want to calculate the local clustering coefficient of a node in an undirected graph. \n",
    "\n",
    "Recall that an undirected graph consists a set of nodes that are connected to some extent, where all the edges that connect the nodes are bidirectional. \n",
    "Imagine, for example, a graph where the nodes represent people at a party pre-corona and there is an edge between two people if they shook hands. This example graph is undirected because any person, A, can shake hands with another person, B, only if B also shakes hands with A. This means that if A is connected to B, then B is also per definition automatically connected to A.\n",
    "\n",
    "The intuition behind the **local clustering coefficient** metric is that it describes the local connectivity of the neighborhood of a node. That is, the proportion of connections among its neighbours which are actually realised out of the number of all possible connections.\n",
    "\n",
    "Imagine a person, A, that has three friends: B, C, and D. These friends are person A’s neighborhood. They all have in common that they are friends with A. However, they might not be friends with each other. The local clustering coefficient expresses how many of A’s friends are in fact also friends with each other. \n",
    "\n",
    "Different scenarios for the local clustering coefficient of A:\n",
    "- $LCC_A = \\frac{0}{3}$ -- noone is friends in the neighbourhood: no nodes are connected\n",
    "- $LCC_A = \\frac{1}{3}$ -- only B and C are friends (or only C and D, or only D and B)\n",
    "- $LCC_A = \\frac{2}{3}$ -- we have two pairs of friends in the neighbourhood\n",
    "- $LCC_A = \\frac{3}{3}$ -- everybody is friends in the neighbourhood: all nodes are connected\n",
    "\n",
    "\n",
    "<img src=\"img/clustering_coeff.png\" align=\"center\">\n",
    "\n",
    "___\n",
    "\n",
    "## Assignment\n",
    "Your task in the following exercises is to compute the local clustering coefficient from various representations of the same undirected graph, `tiny`, consisting of 5 nodes and 7 edges.\n"
   ]
  },
  {
   "cell_type": "code",
   "execution_count": 1,
   "metadata": {},
   "outputs": [],
   "source": [
    "import numpy as np"
   ]
  },
  {
   "cell_type": "markdown",
   "metadata": {},
   "source": [
    "### Task 1\n",
    "As we know, one way of representing a graph is with an edge list. \n",
    "This representation can be found in the file `tiny_edgelist.txt`. The file contains one edge per line, shown as an edge pair of 2 integers separated by whitespace. Investigate the file to further by yourself to see the formatting of the edge pairs. \n",
    "\n",
    "Write a function called `coefficient_from_edgelist(edgefile, node_id)` that takes an edge list file formatted like so, and a node, and returns the local clustering coefficient for that node, rounded to 3 decimals.\n",
    "___\n",
    "`coefficient_from_edgelist(data/tiny_edgelist.txt, 2)`  \n",
    "\\>\\> `0.667`"
   ]
  },
  {
   "cell_type": "code",
   "execution_count": 35,
   "metadata": {},
   "outputs": [
    {
     "data": {
      "text/plain": [
       "0.667"
      ]
     },
     "execution_count": 35,
     "metadata": {},
     "output_type": "execute_result"
    }
   ],
   "source": [
    "# your solution to task 1 here\n",
    "def coefficient_from_edgelist(edgefile, node_id):\n",
    "    edges = np.loadtxt(edgefile, dtype=int).tolist()\n",
    "    \n",
    "    def get_neighbors(my_node):\n",
    "        neighbors = []\n",
    "        for edge in edges:\n",
    "            if edge[0] == my_node:\n",
    "                neighbors.append(edge[1])\n",
    "            elif edge[1] == my_node:\n",
    "                neighbors.append(edge[0])\n",
    "        return neighbors\n",
    "\n",
    "    neighbors = get_neighbors(node_id)\n",
    "    #here k is the number of neighbors the node with node_id has\n",
    "    k = len(neighbors)\n",
    "    \n",
    "    #there can not be an LCC if the node has less than 2 neighbors\n",
    "    if k < 2:\n",
    "        return 0\n",
    "    \n",
    "    connected_neighbors = 0\n",
    "    for neighbor in neighbors:\n",
    "        neighbor_neighbors = get_neighbors(neighbor)\n",
    "        for neighbor_neighbor in neighbor_neighbors:\n",
    "            if neighbor_neighbor in neighbors:\n",
    "                connected_neighbors += 1\n",
    "                edges.remove(sorted([neighbor, neighbor_neighbor]))\n",
    "    \n",
    "    clustering_coefficient = (2.0 * connected_neighbors) / (k * (k - 1))\n",
    "    return round(clustering_coefficient, 3)\n",
    "\n",
    "coefficient_from_edgelist(\"data/tiny_edgelist.txt\", 2)\n"
   ]
  },
  {
   "cell_type": "markdown",
   "metadata": {},
   "source": [
    "## Task 2\n",
    "Another common way to represent a graph is with an adjacency matrix. \n",
    "This representation can be found in the file `tiny_adjmatrix.txt`. Investigate the file by yourself to see the formatting of the adjacency matrix. \n",
    "\n",
    "Write a function called `coefficient_from_adjmatrix(matrixfile, node_id)` that takes an adjacency matrix file formatted like so, and a node, and returns the local clustering coefficient for that node, rounded to 3 decimals.\n",
    "___\n",
    "`coefficient_from_adjmatrix(data/tiny_adjmatrix.txt.txt, 0)`  \n",
    "\\>\\> `1.0`"
   ]
  },
  {
   "cell_type": "code",
   "execution_count": 56,
   "metadata": {},
   "outputs": [
    {
     "data": {
      "text/plain": [
       "1.0"
      ]
     },
     "execution_count": 56,
     "metadata": {},
     "output_type": "execute_result"
    }
   ],
   "source": [
    "# your solution to task 2 here\n",
    "def coefficient_from_adjmatrix(matrixfile, node_id):\n",
    "    adj_matrix = np.loadtxt(matrixfile)\n",
    "    \n",
    "    neighbors = np.nonzero(adj_matrix[node_id])[0]\n",
    "\n",
    "    #here k is the number of neighbors the node with node_id has\n",
    "    k = len(neighbors)\n",
    "    \n",
    "    #there can not be an LCC if the node has less than 2 neighbors\n",
    "    if k < 2:\n",
    "        return 0\n",
    "    \n",
    "    total_possible_edges = k * (k-1) / 2\n",
    "    actual_edges = np.sum(adj_matrix[neighbors[:, None], neighbors] == 1) / 2\n",
    "    \n",
    "    clustering_coefficient = actual_edges / total_possible_edges if total_possible_edges != 0 else 0\n",
    "    return round(clustering_coefficient, 3)\n",
    "\n",
    "coefficient_from_adjmatrix(\"data/tiny_adjmatrix.txt\", 0)"
   ]
  }
 ],
 "metadata": {
  "kernelspec": {
   "display_name": "Python 3 (ipykernel)",
   "language": "python",
   "name": "python3"
  },
  "language_info": {
   "codemirror_mode": {
    "name": "ipython",
    "version": 3
   },
   "file_extension": ".py",
   "mimetype": "text/x-python",
   "name": "python",
   "nbconvert_exporter": "python",
   "pygments_lexer": "ipython3",
   "version": "3.11.5"
  }
 },
 "nbformat": 4,
 "nbformat_minor": 4
}
